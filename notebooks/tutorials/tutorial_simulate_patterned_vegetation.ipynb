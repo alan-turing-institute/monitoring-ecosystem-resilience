{
 "cells": [
  {
   "cell_type": "markdown",
   "metadata": {},
   "source": [
    "# Simulating patterned vegetation\n",
    "\n",
    "Using the model described in the paper by Konings *et al.* (doi :10.1029/\n",
    "2011JG001748), we can define a 50x50 grid, in which each square contains values for surface water, soil water, and plant biomass, and see how the plant biomass patterns evolve as we progress the simulation, given different values of daily rainfall.\n",
    "\n",
    "We can then use the subgraph centrality method described in Mander *et al.* (https://doi.org/10.1098/rsos.160443) to quantify the *connectedness* of the vegetation patterns."
   ]
  },
  {
   "cell_type": "code",
   "execution_count": 1,
   "metadata": {},
   "outputs": [],
   "source": [
    "import os\n",
    "import numpy as np\n",
    "import matplotlib.pyplot as plt\n",
    "%matplotlib inline"
   ]
  },
  {
   "cell_type": "markdown",
   "metadata": {},
   "source": [
    "In the pyveg package we have a class called PatternGenerator that implements the model:"
   ]
  },
  {
   "cell_type": "code",
   "execution_count": 2,
   "metadata": {},
   "outputs": [],
   "source": [
    "from pyveg.src.pattern_generation import PatternGenerator"
   ]
  },
  {
   "cell_type": "code",
   "execution_count": 3,
   "metadata": {},
   "outputs": [],
   "source": [
    "pg = PatternGenerator()"
   ]
  },
  {
   "cell_type": "markdown",
   "metadata": {},
   "source": [
    "Once we have an instance of PatternGenerator, we can print its configuration:"
   ]
  },
  {
   "cell_type": "code",
   "execution_count": 4,
   "metadata": {},
   "outputs": [
    {
     "name": "stdout",
     "output_type": "stream",
     "text": [
      "\n",
      "Current configuration:\n",
      "======================\n",
      "\n",
      "m: 50\n",
      "delta_x: 21\n",
      "delta_y: 21\n",
      "diffusion_plant: 0.1\n",
      "diffusion_soil: 0.1\n",
      "diffusion_surface: 100\n",
      "surface_water_frac: 0.1\n",
      "bare_soil_infiltration: 0.15\n",
      "grazing_loss: 0.3\n",
      "soil_water_loss: 0.1\n",
      "plant_uptake: 10\n",
      "plant_growth: 0.05\n",
      "plant_senescence: 0.1\n",
      "plant_uptake_saturation: 3\n",
      "water_infilt_saturation: 5\n",
      "veg_mass_per_cell: 90\n",
      "fraction_plant_cells: 0.9\n"
     ]
    }
   ],
   "source": [
    "pg.print_config()\n"
   ]
  },
  {
   "cell_type": "markdown",
   "metadata": {},
   "source": [
    "## Setting the initial conditions\n",
    "\n",
    "For the starting pattern of vegetation, we can either use a pre-defined pattern (e.g. taken from a satellite image), or define a random pattern, where the fraction of grid cells with non-zero plant biomass is defined in the configuration file (default is 10%).\n",
    "If we use a random pattern though, we first need to set the daily rainfall, in order to get values for the equilibrium quantity of soil water in the bare-soil cells."
   ]
  },
  {
   "cell_type": "code",
   "execution_count": 5,
   "metadata": {},
   "outputs": [],
   "source": [
    "pg.set_rainfall(1.4)"
   ]
  },
  {
   "cell_type": "code",
   "execution_count": 6,
   "metadata": {},
   "outputs": [],
   "source": [
    "pg.set_random_starting_pattern()"
   ]
  },
  {
   "cell_type": "markdown",
   "metadata": {},
   "source": [
    "Now we use this pattern to set the initial values for soil and surface water, and plant biomass for all cells:"
   ]
  },
  {
   "cell_type": "code",
   "execution_count": 7,
   "metadata": {},
   "outputs": [],
   "source": [
    "pg.initial_conditions()"
   ]
  },
  {
   "cell_type": "code",
   "execution_count": 8,
   "metadata": {},
   "outputs": [
    {
     "data": {
      "image/png": "[encoded data removed]",
      "text/plain": [
       "<Figure size 432x288 with 2 Axes>"
      ]
     },
     "metadata": {
      "needs_background": "light"
     },
     "output_type": "display_data"
    }
   ],
   "source": [
    "pg.plot_image()"
   ]
  },
  {
   "cell_type": "markdown",
   "metadata": {},
   "source": [
    "## Running the simulation\n",
    "\n",
    "Now we can evolve the simulation by 1000 steps.  In each step, some quantity of surface water will enter the soil, some quantity of soil water will be uptaken by the plants, there will be some diffusion from cell-to-cell, and the plants will gain or lose biomass according to the these values and the parameters in the configuration."
   ]
  },
  {
   "cell_type": "code",
   "execution_count": 9,
   "metadata": {},
   "outputs": [
    {
     "name": "stdout",
     "output_type": "stream",
     "text": [
      "Doing 1000 steps with rainfall 1.4mm\n"
     ]
    }
   ],
   "source": [
    "pg.evolve_pattern(1000)"
   ]
  },
  {
   "cell_type": "markdown",
   "metadata": {},
   "source": [
    "Let's see what the plant biomass looks like now: "
   ]
  },
  {
   "cell_type": "code",
   "execution_count": 10,
   "metadata": {},
   "outputs": [
    {
     "data": {
      "image/png": "[encoded data removed]",
      "text/plain": [
       "<Figure size 432x288 with 2 Axes>"
      ]
     },
     "metadata": {
      "needs_background": "light"
     },
     "output_type": "display_data"
    }
   ],
   "source": [
    "pg.plot_image()"
   ]
  },
  {
   "cell_type": "markdown",
   "metadata": {},
   "source": [
    "## Quantifying the connectedness of the patterned vegetation\n",
    "\n",
    "In order to use the subgraph centrality method, we need to convert this into a binary array.  To do this, we define a threshold of (max_val + min_val)/2 and set everything above this to be 0 (i.e. a black pixel, which we define as vegetation), and everything below it as 255 (i.e. a white pixel, in 8-bit color)."
   ]
  },
  {
   "cell_type": "code",
   "execution_count": 11,
   "metadata": {},
   "outputs": [
    {
     "data": {
      "text/plain": [
       "array([[  0,   0,   0, ...,   0,   0, 255],\n",
       "       [  0,   0,   0, ...,   0,   0, 255],\n",
       "       [255, 255, 255, ..., 255, 255, 255],\n",
       "       ...,\n",
       "       [  0, 255, 255, ...,   0,   0, 255],\n",
       "       [255,   0,   0, ..., 255,   0, 255],\n",
       "       [255, 255, 255, ..., 255, 255, 255]])"
      ]
     },
     "execution_count": 11,
     "metadata": {},
     "output_type": "execute_result"
    }
   ],
   "source": [
    "binary_array = pg.make_binary()\n",
    "binary_array"
   ]
  },
  {
   "cell_type": "markdown",
   "metadata": {},
   "source": [
    "The network centrality code is implemented in the \"subgraph_centrality.py\" module in pyveg."
   ]
  },
  {
   "cell_type": "code",
   "execution_count": 12,
   "metadata": {},
   "outputs": [],
   "source": [
    "from pyveg.src.subgraph_centrality import *"
   ]
  },
  {
   "cell_type": "code",
   "execution_count": 13,
   "metadata": {},
   "outputs": [],
   "source": [
    "feature_vec, _ = subgraph_centrality(binary_array)"
   ]
  },
  {
   "cell_type": "markdown",
   "metadata": {},
   "source": [
    "The \"feature_vector\" is the Euler Characteristic values for the different quantiles of vegetation-covered pixels, ordered by subgraph centrality."
   ]
  },
  {
   "cell_type": "code",
   "execution_count": 14,
   "metadata": {},
   "outputs": [
    {
     "data": {
      "text/plain": [
       "[<matplotlib.lines.Line2D at 0x7fdae4133f10>]"
      ]
     },
     "execution_count": 14,
     "metadata": {},
     "output_type": "execute_result"
    },
    {
     "data": {
      "image/png": "[encoded data removed]",
      "text/plain": [
       "<Figure size 432x288 with 1 Axes>"
      ]
     },
     "metadata": {
      "needs_background": "light"
     },
     "output_type": "display_data"
    }
   ],
   "source": [
    "plt.plot(feature_vec, \"ro\")"
   ]
  },
  {
   "cell_type": "markdown",
   "metadata": {},
   "source": [
    "The single number that we are using to quantify the connectedness is \"offset50\", which is essentially the slope of the second half of this feature vector."
   ]
  },
  {
   "cell_type": "code",
   "execution_count": 15,
   "metadata": {},
   "outputs": [
    {
     "name": "stdout",
     "output_type": "stream",
     "text": [
      "-257.0\n"
     ]
    }
   ],
   "source": [
    "offset50 = feature_vector_metrics(feature_vec)[\"offset50\"]\n",
    "print(offset50)"
   ]
  },
  {
   "cell_type": "markdown",
   "metadata": {},
   "source": [
    "## Generate a precipitation time-series\n",
    "\n",
    "Let's assume we're in a semi-arid landscape, where we get very little rainfall for most months, then between 1 and 2mm per day in June, July, August\n"
   ]
  },
  {
   "cell_type": "code",
   "execution_count": 16,
   "metadata": {},
   "outputs": [],
   "source": [
    "n_months = 36\n",
    "months = np.array(list(range(n_months)))\n",
    "daily_rainfall = np.zeros(n_months)\n",
    "for i in range(len(daily_rainfall)):\n",
    "    if i%12 == 5: # May\n",
    "        daily_rainfall[i] = 1.0\n",
    "    elif i%12 == 6: # June\n",
    "        daily_rainfall[i] = 1.3\n",
    "    elif i%12 == 7: # July\n",
    "        daily_rainfall[i] = 1.7\n",
    "    elif i%12 == 8: # August\n",
    "        daily_rainfall[i] = 1.4\n",
    "    else:\n",
    "        daily_rainfall[i] = 0.8\n",
    "\n",
    "    "
   ]
  },
  {
   "cell_type": "code",
   "execution_count": 17,
   "metadata": {},
   "outputs": [
    {
     "data": {
      "text/plain": [
       "[<matplotlib.lines.Line2D at 0x7fdae3bf7310>]"
      ]
     },
     "execution_count": 17,
     "metadata": {},
     "output_type": "execute_result"
    },
    {
     "data": {
      "image/png": "[encoded data removed]",
      "text/plain": [
       "<Figure size 432x288 with 1 Axes>"
      ]
     },
     "metadata": {
      "needs_background": "light"
     },
     "output_type": "display_data"
    }
   ],
   "source": [
    "plt.plot(months,daily_rainfall)"
   ]
  },
  {
   "cell_type": "markdown",
   "metadata": {},
   "source": [
    "## Set a starting vegetation pattern\n",
    "\n",
    "This time let's load a starting pattern from a csv file - this is one of the \"standard\" labyrinth patterns we've been using in testing: "
   ]
  },
  {
   "cell_type": "code",
   "execution_count": 18,
   "metadata": {},
   "outputs": [
    {
     "name": "stderr",
     "output_type": "stream",
     "text": [
      "/Users/nbarlow/anaconda3/envs/ds4sdenv/lib/python3.7/site-packages/pyveg/src/pattern_generation.py:462: UserWarning: Matplotlib is currently using ps, which is a non-GUI backend, so cannot show the figure.\n",
      "  plt.show()\n"
     ]
    },
    {
     "data": {
      "image/png": "[encoded data removed]",
      "text/plain": [
       "<Figure size 432x288 with 2 Axes>"
      ]
     },
     "metadata": {
      "needs_background": "light"
     },
     "output_type": "display_data"
    }
   ],
   "source": [
    "pg.set_starting_pattern_from_file(os.path.join(\"..\",\"..\",\"pyveg\"\n",
    "                                               ,\"testdata\",\n",
    "                                               \"binary_labyrinths_50.csv\"))\n",
    "pg.plot_image()"
   ]
  },
  {
   "cell_type": "markdown",
   "metadata": {},
   "source": [
    "## Run the simulation\n",
    "\n",
    "Now we can step through this 3-year period, setting the rainfall according to the time series we generated above, and seeing how the vegetation responds:"
   ]
  },
  {
   "cell_type": "code",
   "execution_count": 19,
   "metadata": {},
   "outputs": [
    {
     "name": "stdout",
     "output_type": "stream",
     "text": [
      "Doing 30 steps with rainfall 0.8mm\n",
      "offset50 value is: -448.0\n",
      "Doing 30 steps with rainfall 0.8mm\n",
      "offset50 value is: -440.0\n",
      "Doing 30 steps with rainfall 0.8mm\n",
      "offset50 value is: -486.0\n",
      "Doing 30 steps with rainfall 0.8mm\n",
      "offset50 value is: -771.0\n",
      "Doing 30 steps with rainfall 0.8mm\n",
      "offset50 value is: -1040.0\n",
      "Doing 30 steps with rainfall 1.0mm\n",
      "offset50 value is: -1140.0\n",
      "Doing 30 steps with rainfall 1.3mm\n",
      "offset50 value is: -1114.0\n",
      "Doing 30 steps with rainfall 1.7mm\n",
      "offset50 value is: -1078.0\n",
      "Doing 30 steps with rainfall 1.4mm\n",
      "offset50 value is: -1072.0\n",
      "Doing 30 steps with rainfall 0.8mm\n",
      "offset50 value is: -1071.0\n",
      "Doing 30 steps with rainfall 0.8mm\n",
      "offset50 value is: -1091.0\n",
      "Doing 30 steps with rainfall 0.8mm\n",
      "offset50 value is: -898.0\n",
      "Doing 30 steps with rainfall 0.8mm\n",
      "offset50 value is: -745.0\n",
      "Doing 30 steps with rainfall 0.8mm\n",
      "offset50 value is: -717.0\n",
      "Doing 30 steps with rainfall 0.8mm\n",
      "offset50 value is: -714.0\n",
      "Doing 30 steps with rainfall 0.8mm\n",
      "offset50 value is: -730.0\n",
      "Doing 30 steps with rainfall 0.8mm\n",
      "offset50 value is: -736.0\n",
      "Doing 30 steps with rainfall 1.0mm\n",
      "offset50 value is: -734.0\n",
      "Doing 30 steps with rainfall 1.3mm\n",
      "offset50 value is: -727.0\n",
      "Doing 30 steps with rainfall 1.7mm\n",
      "offset50 value is: -692.0\n",
      "Doing 30 steps with rainfall 1.4mm\n",
      "offset50 value is: -667.0\n",
      "Doing 30 steps with rainfall 0.8mm\n",
      "offset50 value is: -663.0\n",
      "Doing 30 steps with rainfall 0.8mm\n",
      "offset50 value is: -658.0\n",
      "Doing 30 steps with rainfall 0.8mm\n",
      "offset50 value is: -655.0\n",
      "Doing 30 steps with rainfall 0.8mm\n",
      "offset50 value is: -653.0\n",
      "Doing 30 steps with rainfall 0.8mm\n",
      "offset50 value is: -656.0\n",
      "Doing 30 steps with rainfall 0.8mm\n",
      "offset50 value is: -680.0\n",
      "Doing 30 steps with rainfall 0.8mm\n",
      "offset50 value is: -689.0\n",
      "Doing 30 steps with rainfall 0.8mm\n",
      "offset50 value is: -691.0\n",
      "Doing 30 steps with rainfall 1.0mm\n",
      "offset50 value is: -691.0\n",
      "Doing 30 steps with rainfall 1.3mm\n",
      "offset50 value is: -675.0\n",
      "Doing 30 steps with rainfall 1.7mm\n",
      "offset50 value is: -655.0\n",
      "Doing 30 steps with rainfall 1.4mm\n",
      "offset50 value is: -649.0\n",
      "Doing 30 steps with rainfall 0.8mm\n",
      "offset50 value is: -650.0\n",
      "Doing 30 steps with rainfall 0.8mm\n",
      "offset50 value is: -648.0\n",
      "Doing 30 steps with rainfall 0.8mm\n",
      "offset50 value is: -647.0\n"
     ]
    }
   ],
   "source": [
    "offset50_vals = np.zeros(n_months)\n",
    "for i in range(n_months):\n",
    "    # set the rainfall for month i\n",
    "    pg.set_rainfall(daily_rainfall[i])\n",
    "    # evolve the pattern for 30 days\n",
    "    pg.evolve_pattern(30)\n",
    "    # get a binary array representing the vegetation pattern\n",
    "    binary_array = pg.make_binary()\n",
    "    # calculate the subgraph centrality, and set \"offset50\"\n",
    "    feature_vec, _ = subgraph_centrality(binary_array)\n",
    "    offset50 = feature_vector_metrics(feature_vec)[\"offset50\"]\n",
    "    print(\"offset50 value is: {}\".format(offset50))\n",
    "    offset50_vals[i] = offset50"
   ]
  },
  {
   "cell_type": "markdown",
   "metadata": {},
   "source": [
    "## Results"
   ]
  },
  {
   "cell_type": "code",
   "execution_count": 20,
   "metadata": {},
   "outputs": [
    {
     "data": {
      "text/plain": [
       "[<matplotlib.lines.Line2D at 0x7fdacad84350>]"
      ]
     },
     "execution_count": 20,
     "metadata": {},
     "output_type": "execute_result"
    },
    {
     "data": {
      "image/png": "[encoded data removed]",
      "text/plain": [
       "<Figure size 432x288 with 1 Axes>"
      ]
     },
     "metadata": {
      "needs_background": "light"
     },
     "output_type": "display_data"
    }
   ],
   "source": [
    "plt.plot(offset50_vals)"
   ]
  },
  {
   "cell_type": "markdown",
   "metadata": {},
   "source": [
    "Hmm.. so basically most of the vegetation died off in the first few months, but then it staged a recovery after the first rainy month, then moved towards some sort of equilibrium.\n",
    "\n",
    "This doesn't look a lot like we see in the time series analysis of satellite imagery, but we should bear in mind that this is quite a simplistic model, and that we haven't optimized the configuration for this grid size (in the paper, Konings et al use a 200x200 grid).\n",
    "\n",
    "With some work in tuning the parameters, it's possible that this could be a useful testbed for some of our analysis tools - e.g. we could introduce both seasonal and long-term trends into the precipitation time series, and see if our decomposition methods can pick these up in the offset50 time series."
   ]
  }
 ],
 "metadata": {
  "kernelspec": {
   "display_name": "Python 3",
   "language": "python",
   "name": "python3"
  },
  "language_info": {
   "codemirror_mode": {
    "name": "ipython",
    "version": 3
   },
   "file_extension": ".py",
   "mimetype": "text/x-python",
   "name": "python",
   "nbconvert_exporter": "python",
   "pygments_lexer": "ipython3",
   "version": "3.7.7"
  }
 },
 "nbformat": 4,
 "nbformat_minor": 4
}

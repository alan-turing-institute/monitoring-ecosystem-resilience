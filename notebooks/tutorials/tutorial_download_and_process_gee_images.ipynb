{
 "cells": [
  {
   "cell_type": "markdown",
   "metadata": {},
   "source": [
    "# Introduction\n",
    "\n",
    "The *pyveg* package contains some useful functions for interacting with the Python API of Google Earth Engine.\n",
    "\n",
    "However, before we can use GEE, we need to authenticate (assuming we have an account)."
   ]
  },
  {
   "cell_type": "code",
   "execution_count": null,
   "metadata": {},
   "outputs": [],
   "source": [
    "import ee\n",
    "ee.Authenticate()"
   ]
  },
  {
   "cell_type": "markdown",
   "metadata": {},
   "source": [
    "## Pipelines, Sequences, and Modules\n",
    "\n",
    "In pyveg, we have the concept of a \"Pipeline\" for downloading and processing data from GEE.\n",
    "\n",
    "A Pipeline is composed of one or more Sequences, which are in turn composed of Modules.\n",
    "\n",
    "A Module is an class designed for one specific task (e.g. \"download vegetation data from GEE\", or \"calculate network centrality of binary images\"), and they are generally grouped into Sequences such that one Module will work on the output of the previous one.  \n",
    "So our standard Pipeline has:\n",
    "* A vegetation Sequence consisting of VegetationDownloader, VegetationImageProcessor, NetworkCentralityCalculator, and NDVICalculator.   \n",
    "* A weather Sequence consisting of WeatherDownloader, WeatherImageToJSON\n",
    "* A combiner Sequence consisting of a single combiner Module, that takes the outputs of the other two Sequences and produces a final output file."
   ]
  },
  {
   "cell_type": "markdown",
   "metadata": {},
   "source": [
    "### Running the full pipeline from the command-line\n",
    "\n",
    "For the second part of this notebook will will demonstrate running individual Modules and Sequences, but the majority of users will probably just want to run the full Pipeline for their selected location/collection/date range, so we will cover that first.\n",
    "\n",
    "We have a couple of \"entrypoints\" (i.e. command-line commands) linked to functions in some pyveg scripts to help do this.  \n",
    "* To configure and run a downloading-and-processing pipeline we run the command `pyveg_run_pipeline --config_file <some-config-file>`\n",
    "* To generate the config file in the above command we have the command `pyveg_generate_config`.\n",
    "\n",
    "Both these can accept multiple command-line arguments, and these can be seen with the `--help` argument:"
   ]
  },
  {
   "cell_type": "code",
   "execution_count": 5,
   "metadata": {},
   "outputs": [
    {
     "name": "stdout",
     "output_type": "stream",
     "text": [
      "usage: pyveg_generate_config [-h] [--configs_dir CONFIGS_DIR]\r\n",
      "                             [--collection_name COLLECTION_NAME]\r\n",
      "                             [--output_dir OUTPUT_DIR] [--test_mode]\r\n",
      "                             [--latitude LATITUDE] [--longitude LONGITUDE]\r\n",
      "                             [--country COUNTRY] [--start_date START_DATE]\r\n",
      "                             [--end_date END_DATE]\r\n",
      "                             [--time_per_point TIME_PER_POINT]\r\n",
      "                             [--run_mode RUN_MODE] [--n_threads N_THREADS]\r\n",
      "\r\n",
      "create a config file for running pyveg_pipeline\r\n",
      "\r\n",
      "optional arguments:\r\n",
      "  -h, --help            show this help message and exit\r\n",
      "  --configs_dir CONFIGS_DIR\r\n",
      "                        path to directory containing config files\r\n",
      "  --collection_name COLLECTION_NAME\r\n",
      "                        collection name (e.g. 'Sentinel2')\r\n",
      "  --output_dir OUTPUT_DIR\r\n",
      "                        Directory for local output data\r\n",
      "  --test_mode           Run in test mode, over fewer months and with fewer\r\n",
      "                        sub-images\r\n",
      "  --latitude LATITUDE   latitude in degrees N\r\n",
      "  --longitude LONGITUDE\r\n",
      "                        longitude in degrees E\r\n",
      "  --country COUNTRY     Country of location\r\n",
      "  --start_date START_DATE\r\n",
      "                        start date, format YYYY-MM-DD\r\n",
      "  --end_date END_DATE   end date, format YYYY-MM-DD\r\n",
      "  --time_per_point TIME_PER_POINT\r\n",
      "                        frequency of image, e.g. '1m', '1w'\r\n",
      "  --run_mode RUN_MODE   'local' for running on local machine, 'azure' for\r\n",
      "                        running some time-consuming parts (i.e. vegetation\r\n",
      "                        image processing) on Azure batch\r\n",
      "  --n_threads N_THREADS\r\n",
      "                        How many threads (cores) to parallelize some\r\n",
      "                        processing functions over\r\n"
     ]
    }
   ],
   "source": [
    "!pyveg_generate_config --help"
   ]
  },
  {
   "cell_type": "markdown",
   "metadata": {},
   "source": [
    "For `pyveg_generate_config` any parameters it needs that are not provided as command-line arguments will be requested from the user, and the various allowed options will be provided, along with (in most cases) default values that will be used if the user just presses \"enter\".\n",
    "However, although just running `pyveg_generate_config` with no arguments and then responding to the prompts is probably the easiest way to run it on the command line, this doesn't seem to work so well with Jupyter, so let's just provide all the arguments it needs:"
   ]
  },
  {
   "cell_type": "code",
   "execution_count": 1,
   "metadata": {},
   "outputs": [
    {
     "name": "stdout",
     "output_type": "stream",
     "text": [
      "\r\n",
      "    output_location ./Sentinel2-11.58N-27.94E-Sudan\r\n",
      "    collection: Sentinel2\r\n",
      "    latitude: 11.58\r\n",
      "    longitude: 27.94\r\n",
      "    country: Sudan\r\n",
      "    start_date: 2019-01-01\r\n",
      "    end_date: 2019-04-01\r\n",
      "    time_per_point: 1m\r\n",
      "    run_mode: local\r\n",
      "    n_threads: 2\r\n",
      "    \r\n",
      "================================\r\n",
      "Wrote file \r\n",
      "  ../../pyveg/configs/testconfig_Sentinel2_11.58N_27.94E_Sudan_2019-01-01_2019-04-01_1m_local.py\r\n",
      "We recommend that you add and commit this to your version control repository.\r\n",
      "================================\r\n",
      "\r\n",
      "To run pyveg using this configuration, do:\r\n",
      "\r\n",
      "pyveg_run_pipeline --config_file ../../pyveg/configs/testconfig_Sentinel2_11.58N_27.94E_Sudan_2019-01-01_2019-04-01_1m_local.py\r\n",
      "\r\n",
      "\r\n"
     ]
    }
   ],
   "source": [
    "!pyveg_generate_config --configs_dir ../../pyveg/configs --collection_name Sentinel2 --output_dir ./ --test_mode --latitude 11.58 --longitude 27.94 --country Sudan --start_date 2019-01-01 --end_date 2019-04-01 --time_per_point 1m --run_mode local --n_threads 2"
   ]
  },
  {
   "cell_type": "markdown",
   "metadata": {},
   "source": [
    "We can see from the output that a new config file has been written, and the command we should use to run with it."
   ]
  },
  {
   "cell_type": "code",
   "execution_count": 2,
   "metadata": {},
   "outputs": [
    {
     "name": "stdout",
     "output_type": "stream",
     "text": [
      "2020-09-04 15:43:20,776 [INFO] Sentinel2: setting collection_name to COPERNICUS/S2\n",
      "2020-09-04 15:43:20,776 [INFO] Sentinel2: setting data_type to vegetation\n",
      "2020-09-04 15:43:20,776 [INFO] Sentinel2: setting RGB_bands to ['B4', 'B3', 'B2']\n",
      "2020-09-04 15:43:20,777 [INFO] Sentinel2: setting NIR_band to B8\n",
      "2020-09-04 15:43:20,777 [INFO] Sentinel2: setting mask_cloud to True\n",
      "2020-09-04 15:43:20,777 [INFO] Sentinel2: setting cloudy_pix_frac to 50\n",
      "2020-09-04 15:43:20,777 [INFO] Sentinel2: setting cloudy_pix_flag to CLOUDY_PIXEL_PERCENTAGE\n",
      "2020-09-04 15:43:20,777 [INFO] Sentinel2: setting min_date to 2015-01-01\n",
      "2020-09-04 15:43:20,777 [INFO] Sentinel2: setting max_date to 2020-09-04\n",
      "2020-09-04 15:43:20,777 [INFO] Sentinel2: setting time_per_point to 1m\n",
      "2020-09-04 15:43:20,838 [INFO] Sentinel2: setting time_per_point to 1m\n",
      "2020-09-04 15:43:20,839 [INFO] VegetationImageProcessor: setting run_mode to local\n",
      "2020-09-04 15:43:20,839 [INFO] NetworkCentralityCalculator: setting n_threads to 2\n",
      "2020-09-04 15:43:20,839 [INFO] NetworkCentralityCalculator: setting run_mode to local\n",
      "2020-09-04 15:43:20,839 [INFO] NetworkCentralityCalculator: setting n_sub_images to 10\n",
      "2020-09-04 15:43:20,840 [INFO] NDVICalculator: setting run_mode to local\n",
      "2020-09-04 15:43:20,840 [INFO] NDVICalculator: setting n_sub_images to 10\n",
      "2020-09-04 15:43:20,840 [INFO] ERA5: setting collection_name to ECMWF/ERA5/MONTHLY\n",
      "2020-09-04 15:43:20,840 [INFO] ERA5: setting data_type to weather\n",
      "2020-09-04 15:43:20,840 [INFO] ERA5: setting precipitation_band to ['total_precipitation']\n",
      "2020-09-04 15:43:20,841 [INFO] ERA5: setting temperature_band to ['mean_2m_air_temperature']\n",
      "2020-09-04 15:43:20,841 [INFO] ERA5: setting min_date to 1986-01-01\n",
      "2020-09-04 15:43:20,841 [INFO] ERA5: setting max_date to 2020-09-04\n",
      "2020-09-04 15:43:20,841 [INFO] ERA5: setting time_per_point to 1m\n",
      "2020-09-04 15:43:20,849 [INFO] ERA5: setting time_per_point to 1m\n",
      "2020-09-04 15:43:20,849 [INFO] ERA5: setting date_range to ['1986-01-01', '2019-04-01']\n",
      "2020-09-04 15:44:09,216 [INFO] Sentinel2_VegetationDownloader: Will download to ./Sentinel2-11.58N-27.94E-Sudan__2020-09-04_15-43-20/gee_27.94_11.58_Sentinel2/2019-01-16/RAW\n",
      "INFO:pyveg_logger:Sentinel2_VegetationDownloader: Will download to ./Sentinel2-11.58N-27.94E-Sudan__2020-09-04_15-43-20/gee_27.94_11.58_Sentinel2/2019-01-16/RAW\n",
      "2020-09-04 15:44:09,282 [INFO] Sentinel2_VegetationDownloader: download succeeded for date range ['2019-01-01', '2019-02-01']\n",
      "INFO:pyveg_logger:Sentinel2_VegetationDownloader: download succeeded for date range ['2019-01-01', '2019-02-01']\n",
      "2020-09-04 15:45:14,080 [INFO] Sentinel2_VegetationDownloader: Will download to ./Sentinel2-11.58N-27.94E-Sudan__2020-09-04_15-43-20/gee_27.94_11.58_Sentinel2/2019-02-15/RAW\n",
      "INFO:pyveg_logger:Sentinel2_VegetationDownloader: Will download to ./Sentinel2-11.58N-27.94E-Sudan__2020-09-04_15-43-20/gee_27.94_11.58_Sentinel2/2019-02-15/RAW\n",
      "2020-09-04 15:45:14,142 [INFO] Sentinel2_VegetationDownloader: download succeeded for date range ['2019-02-01', '2019-03-01']\n",
      "INFO:pyveg_logger:Sentinel2_VegetationDownloader: download succeeded for date range ['2019-02-01', '2019-03-01']\n",
      "2020-09-04 15:46:25,617 [INFO] Sentinel2_VegetationDownloader: Will download to ./Sentinel2-11.58N-27.94E-Sudan__2020-09-04_15-43-20/gee_27.94_11.58_Sentinel2/2019-03-16/RAW\n",
      "INFO:pyveg_logger:Sentinel2_VegetationDownloader: Will download to ./Sentinel2-11.58N-27.94E-Sudan__2020-09-04_15-43-20/gee_27.94_11.58_Sentinel2/2019-03-16/RAW\n",
      "2020-09-04 15:46:25,655 [INFO] Sentinel2_VegetationDownloader: download succeeded for date range ['2019-03-01', '2019-04-01']\n",
      "INFO:pyveg_logger:Sentinel2_VegetationDownloader: download succeeded for date range ['2019-03-01', '2019-04-01']\n",
      "2020-09-04 15:46:25,655 [INFO] Sentinel2_VegetationImageProcessor: Running local\n",
      "INFO:pyveg_logger:Sentinel2_VegetationImageProcessor: Running local\n",
      "2020-09-04 15:46:25,656 [INFO] Sentinel2_VegetationImageProcessor processing files in ./Sentinel2-11.58N-27.94E-Sudan__2020-09-04_15-43-20/gee_27.94_11.58_Sentinel2/2019-01-16/RAW\n",
      "INFO:pyveg_logger:Sentinel2_VegetationImageProcessor processing files in ./Sentinel2-11.58N-27.94E-Sudan__2020-09-04_15-43-20/gee_27.94_11.58_Sentinel2/2019-01-16/RAW\n",
      "2020-09-04 15:46:25,656 [INFO] ['download.NDVI.tif', 'download.B4.tif', 'download.B3.tif', 'download.B2.tif']\n",
      "INFO:pyveg_logger:['download.NDVI.tif', 'download.B4.tif', 'download.B3.tif', 'download.B2.tif']\n",
      "2020-09-04 15:46:25,657 [INFO] Sentinel2_VegetationImageProcessor: Saving RGB image for 2019-01-16 27.94_11.58\n",
      "INFO:pyveg_logger:Sentinel2_VegetationImageProcessor: Saving RGB image for 2019-01-16 27.94_11.58\n",
      "2020-09-04 15:46:32,732 [INFO] Will save image to ./Sentinel2-11.58N-27.94E-Sudan__2020-09-04_15-43-20/gee_27.94_11.58_Sentinel2/2019-01-16/PROCESSED / 2019-01-16_27.94_11.58_RGB.png\n",
      "INFO:pyveg_logger:Will save image to ./Sentinel2-11.58N-27.94E-Sudan__2020-09-04_15-43-20/gee_27.94_11.58_Sentinel2/2019-01-16/PROCESSED / 2019-01-16_27.94_11.58_RGB.png\n",
      "Saved image './Sentinel2-11.58N-27.94E-Sudan__2020-09-04_15-43-20/gee_27.94_11.58_Sentinel2/2019-01-16/PROCESSED/2019-01-16_27.94_11.58_RGB.png'\n",
      "Saved image './Sentinel2-11.58N-27.94E-Sudan__2020-09-04_15-43-20/gee_27.94_11.58_Sentinel2/2019-01-16/PROCESSED/2019-01-16_27.94_11.58_NDVI.png'\n",
      "Saved image './Sentinel2-11.58N-27.94E-Sudan__2020-09-04_15-43-20/gee_27.94_11.58_Sentinel2/2019-01-16/PROCESSED/2019-01-16_27.94_11.58_BWNDVI.png'\n",
      "2020-09-04 15:46:48,547 [INFO] Sentinel2_VegetationImageProcessor processing files in ./Sentinel2-11.58N-27.94E-Sudan__2020-09-04_15-43-20/gee_27.94_11.58_Sentinel2/2019-02-15/RAW\n",
      "INFO:pyveg_logger:Sentinel2_VegetationImageProcessor processing files in ./Sentinel2-11.58N-27.94E-Sudan__2020-09-04_15-43-20/gee_27.94_11.58_Sentinel2/2019-02-15/RAW\n",
      "2020-09-04 15:46:48,547 [INFO] ['download.NDVI.tif', 'download.B4.tif', 'download.B3.tif', 'download.B2.tif']\n",
      "INFO:pyveg_logger:['download.NDVI.tif', 'download.B4.tif', 'download.B3.tif', 'download.B2.tif']\n",
      "2020-09-04 15:46:48,548 [INFO] Sentinel2_VegetationImageProcessor: Saving RGB image for 2019-02-15 27.94_11.58\n",
      "INFO:pyveg_logger:Sentinel2_VegetationImageProcessor: Saving RGB image for 2019-02-15 27.94_11.58\n",
      "2020-09-04 15:46:55,490 [INFO] Will save image to ./Sentinel2-11.58N-27.94E-Sudan__2020-09-04_15-43-20/gee_27.94_11.58_Sentinel2/2019-02-15/PROCESSED / 2019-02-15_27.94_11.58_RGB.png\n",
      "INFO:pyveg_logger:Will save image to ./Sentinel2-11.58N-27.94E-Sudan__2020-09-04_15-43-20/gee_27.94_11.58_Sentinel2/2019-02-15/PROCESSED / 2019-02-15_27.94_11.58_RGB.png\n",
      "Saved image './Sentinel2-11.58N-27.94E-Sudan__2020-09-04_15-43-20/gee_27.94_11.58_Sentinel2/2019-02-15/PROCESSED/2019-02-15_27.94_11.58_RGB.png'\n",
      "Saved image './Sentinel2-11.58N-27.94E-Sudan__2020-09-04_15-43-20/gee_27.94_11.58_Sentinel2/2019-02-15/PROCESSED/2019-02-15_27.94_11.58_NDVI.png'\n",
      "Saved image './Sentinel2-11.58N-27.94E-Sudan__2020-09-04_15-43-20/gee_27.94_11.58_Sentinel2/2019-02-15/PROCESSED/2019-02-15_27.94_11.58_BWNDVI.png'\n",
      "2020-09-04 15:47:10,519 [INFO] Sentinel2_VegetationImageProcessor processing files in ./Sentinel2-11.58N-27.94E-Sudan__2020-09-04_15-43-20/gee_27.94_11.58_Sentinel2/2019-03-16/RAW\n",
      "INFO:pyveg_logger:Sentinel2_VegetationImageProcessor processing files in ./Sentinel2-11.58N-27.94E-Sudan__2020-09-04_15-43-20/gee_27.94_11.58_Sentinel2/2019-03-16/RAW\n",
      "2020-09-04 15:47:10,520 [INFO] ['download.NDVI.tif', 'download.B4.tif', 'download.B3.tif', 'download.B2.tif']\n",
      "INFO:pyveg_logger:['download.NDVI.tif', 'download.B4.tif', 'download.B3.tif', 'download.B2.tif']\n",
      "2020-09-04 15:47:10,520 [INFO] Sentinel2_VegetationImageProcessor: Saving RGB image for 2019-03-16 27.94_11.58\n",
      "INFO:pyveg_logger:Sentinel2_VegetationImageProcessor: Saving RGB image for 2019-03-16 27.94_11.58\n",
      "2020-09-04 15:47:17,627 [INFO] Will save image to ./Sentinel2-11.58N-27.94E-Sudan__2020-09-04_15-43-20/gee_27.94_11.58_Sentinel2/2019-03-16/PROCESSED / 2019-03-16_27.94_11.58_RGB.png\n",
      "INFO:pyveg_logger:Will save image to ./Sentinel2-11.58N-27.94E-Sudan__2020-09-04_15-43-20/gee_27.94_11.58_Sentinel2/2019-03-16/PROCESSED / 2019-03-16_27.94_11.58_RGB.png\n",
      "Saved image './Sentinel2-11.58N-27.94E-Sudan__2020-09-04_15-43-20/gee_27.94_11.58_Sentinel2/2019-03-16/PROCESSED/2019-03-16_27.94_11.58_RGB.png'\n"
     ]
    },
    {
     "name": "stdout",
     "output_type": "stream",
     "text": [
      "Saved image './Sentinel2-11.58N-27.94E-Sudan__2020-09-04_15-43-20/gee_27.94_11.58_Sentinel2/2019-03-16/PROCESSED/2019-03-16_27.94_11.58_NDVI.png'\n",
      "Saved image './Sentinel2-11.58N-27.94E-Sudan__2020-09-04_15-43-20/gee_27.94_11.58_Sentinel2/2019-03-16/PROCESSED/2019-03-16_27.94_11.58_BWNDVI.png'\n",
      "2020-09-04 15:47:32,484 [INFO] Sentinel2_NetworkCentralityCalculator: Running local\n",
      "INFO:pyveg_logger:Sentinel2_NetworkCentralityCalculator: Running local\n",
      "2020-09-04 15:47:32,488 [INFO] Sentinel2_NetworkCentralityCalculator: processing 2019-01-16\n",
      "INFO:pyveg_logger:Sentinel2_NetworkCentralityCalculator: processing 2019-01-16\n",
      "2020-09-04 15:47:32,675 [INFO] Sentinel2_NetworkCentralityCalculator found 289 sub-images\n",
      "INFO:pyveg_logger:Sentinel2_NetworkCentralityCalculator found 289 sub-images\n",
      "2020-09-04 15:48:03,972 [INFO] \n",
      " Consolidating json from all subimages\n",
      "INFO:pyveg_logger:\n",
      " Consolidating json from all subimages\n",
      "2020-09-04 15:48:04,006 [INFO] Sentinel2_NetworkCentralityCalculator: processing 2019-02-15\n",
      "INFO:pyveg_logger:Sentinel2_NetworkCentralityCalculator: processing 2019-02-15\n",
      "2020-09-04 15:48:04,211 [INFO] Sentinel2_NetworkCentralityCalculator found 289 sub-images\n",
      "INFO:pyveg_logger:Sentinel2_NetworkCentralityCalculator found 289 sub-images\n",
      "2020-09-04 15:48:39,293 [INFO] \n",
      " Consolidating json from all subimages\n",
      "INFO:pyveg_logger:\n",
      " Consolidating json from all subimages\n",
      "2020-09-04 15:48:39,325 [INFO] Sentinel2_NetworkCentralityCalculator: processing 2019-03-16\n",
      "INFO:pyveg_logger:Sentinel2_NetworkCentralityCalculator: processing 2019-03-16\n",
      "2020-09-04 15:48:39,524 [INFO] Sentinel2_NetworkCentralityCalculator found 289 sub-images\n",
      "INFO:pyveg_logger:Sentinel2_NetworkCentralityCalculator found 289 sub-images\n",
      "2020-09-04 15:49:08,913 [INFO] \n",
      " Consolidating json from all subimages\n",
      "INFO:pyveg_logger:\n",
      " Consolidating json from all subimages\n",
      "2020-09-04 15:49:08,948 [INFO] Sentinel2_NDVICalculator: Running local\n",
      "INFO:pyveg_logger:Sentinel2_NDVICalculator: Running local\n",
      "2020-09-04 15:49:08,952 [INFO] input path is ./Sentinel2-11.58N-27.94E-Sudan__2020-09-04_15-43-20/gee_27.94_11.58_Sentinel2/2019-01-16/SPLIT\n",
      "INFO:pyveg_logger:input path is ./Sentinel2-11.58N-27.94E-Sudan__2020-09-04_15-43-20/gee_27.94_11.58_Sentinel2/2019-01-16/SPLIT\n",
      "2020-09-04 15:49:09,126 [INFO] Sentinel2_NDVICalculator: found 289 sub-images\n",
      "INFO:pyveg_logger:Sentinel2_NDVICalculator: found 289 sub-images\n",
      "2020-09-04 15:49:09,139 [INFO] input path is ./Sentinel2-11.58N-27.94E-Sudan__2020-09-04_15-43-20/gee_27.94_11.58_Sentinel2/2019-02-15/SPLIT\n",
      "INFO:pyveg_logger:input path is ./Sentinel2-11.58N-27.94E-Sudan__2020-09-04_15-43-20/gee_27.94_11.58_Sentinel2/2019-02-15/SPLIT\n",
      "2020-09-04 15:49:09,310 [INFO] Sentinel2_NDVICalculator: found 289 sub-images\n",
      "INFO:pyveg_logger:Sentinel2_NDVICalculator: found 289 sub-images\n",
      "2020-09-04 15:49:09,321 [INFO] input path is ./Sentinel2-11.58N-27.94E-Sudan__2020-09-04_15-43-20/gee_27.94_11.58_Sentinel2/2019-03-16/SPLIT\n",
      "INFO:pyveg_logger:input path is ./Sentinel2-11.58N-27.94E-Sudan__2020-09-04_15-43-20/gee_27.94_11.58_Sentinel2/2019-03-16/SPLIT\n",
      "2020-09-04 15:49:09,494 [INFO] Sentinel2_NDVICalculator: found 289 sub-images\n",
      "INFO:pyveg_logger:Sentinel2_NDVICalculator: found 289 sub-images\n",
      "2020-09-04 15:49:14,537 [INFO] ERA5_WeatherDownloader: Will download to ./Sentinel2-11.58N-27.94E-Sudan__2020-09-04_15-43-20/gee_27.94_11.58_ERA5/1986-01-16/RAW\n",
      "INFO:pyveg_logger:ERA5_WeatherDownloader: Will download to ./Sentinel2-11.58N-27.94E-Sudan__2020-09-04_15-43-20/gee_27.94_11.58_ERA5/1986-01-16/RAW\n",
      "2020-09-04 15:49:14,552 [INFO] ERA5_WeatherDownloader: download succeeded for date range ['1986-01-01', '1986-02-01']\n",
      "INFO:pyveg_logger:ERA5_WeatherDownloader: download succeeded for date range ['1986-01-01', '1986-02-01']\n",
      "2020-09-04 15:49:19,115 [INFO] ERA5_WeatherDownloader: Will download to ./Sentinel2-11.58N-27.94E-Sudan__2020-09-04_15-43-20/gee_27.94_11.58_ERA5/1986-02-15/RAW\n",
      "INFO:pyveg_logger:ERA5_WeatherDownloader: Will download to ./Sentinel2-11.58N-27.94E-Sudan__2020-09-04_15-43-20/gee_27.94_11.58_ERA5/1986-02-15/RAW\n",
      "2020-09-04 15:49:19,119 [INFO] ERA5_WeatherDownloader: download succeeded for date range ['1986-02-01', '1986-03-01']\n",
      "INFO:pyveg_logger:ERA5_WeatherDownloader: download succeeded for date range ['1986-02-01', '1986-03-01']\n",
      "2020-09-04 15:49:23,371 [INFO] ERA5_WeatherDownloader: Will download to ./Sentinel2-11.58N-27.94E-Sudan__2020-09-04_15-43-20/gee_27.94_11.58_ERA5/1986-03-16/RAW\n",
      "INFO:pyveg_logger:ERA5_WeatherDownloader: Will download to ./Sentinel2-11.58N-27.94E-Sudan__2020-09-04_15-43-20/gee_27.94_11.58_ERA5/1986-03-16/RAW\n",
      "2020-09-04 15:49:23,401 [INFO] ERA5_WeatherDownloader: download succeeded for date range ['1986-03-01', '1986-04-01']\n",
      "INFO:pyveg_logger:ERA5_WeatherDownloader: download succeeded for date range ['1986-03-01', '1986-04-01']\n",
      "2020-09-04 15:49:27,166 [INFO] ERA5_WeatherDownloader: Will download to ./Sentinel2-11.58N-27.94E-Sudan__2020-09-04_15-43-20/gee_27.94_11.58_ERA5/1986-04-16/RAW\n",
      "INFO:pyveg_logger:ERA5_WeatherDownloader: Will download to ./Sentinel2-11.58N-27.94E-Sudan__2020-09-04_15-43-20/gee_27.94_11.58_ERA5/1986-04-16/RAW\n",
      "2020-09-04 15:49:27,198 [INFO] ERA5_WeatherDownloader: download succeeded for date range ['1986-04-01', '1986-05-01']\n",
      "INFO:pyveg_logger:ERA5_WeatherDownloader: download succeeded for date range ['1986-04-01', '1986-05-01']\n",
      "2020-09-04 15:49:31,695 [INFO] ERA5_WeatherDownloader: Will download to ./Sentinel2-11.58N-27.94E-Sudan__2020-09-04_15-43-20/gee_27.94_11.58_ERA5/1986-05-16/RAW\n",
      "INFO:pyveg_logger:ERA5_WeatherDownloader: Will download to ./Sentinel2-11.58N-27.94E-Sudan__2020-09-04_15-43-20/gee_27.94_11.58_ERA5/1986-05-16/RAW\n",
      "2020-09-04 15:49:31,700 [INFO] ERA5_WeatherDownloader: download succeeded for date range ['1986-05-01', '1986-06-01']\n",
      "INFO:pyveg_logger:ERA5_WeatherDownloader: download succeeded for date range ['1986-05-01', '1986-06-01']\n",
      "2020-09-04 15:49:35,696 [INFO] ERA5_WeatherDownloader: Will download to ./Sentinel2-11.58N-27.94E-Sudan__2020-09-04_15-43-20/gee_27.94_11.58_ERA5/1986-06-16/RAW\n",
      "INFO:pyveg_logger:ERA5_WeatherDownloader: Will download to ./Sentinel2-11.58N-27.94E-Sudan__2020-09-04_15-43-20/gee_27.94_11.58_ERA5/1986-06-16/RAW\n",
      "2020-09-04 15:49:35,700 [INFO] ERA5_WeatherDownloader: download succeeded for date range ['1986-06-01', '1986-07-01']\n",
      "INFO:pyveg_logger:ERA5_WeatherDownloader: download succeeded for date range ['1986-06-01', '1986-07-01']\n",
      "2020-09-04 15:49:39,786 [INFO] ERA5_WeatherDownloader: Will download to ./Sentinel2-11.58N-27.94E-Sudan__2020-09-04_15-43-20/gee_27.94_11.58_ERA5/1986-07-16/RAW\n",
      "INFO:pyveg_logger:ERA5_WeatherDownloader: Will download to ./Sentinel2-11.58N-27.94E-Sudan__2020-09-04_15-43-20/gee_27.94_11.58_ERA5/1986-07-16/RAW\n",
      "2020-09-04 15:49:39,791 [INFO] ERA5_WeatherDownloader: download succeeded for date range ['1986-07-01', '1986-08-01']\n",
      "INFO:pyveg_logger:ERA5_WeatherDownloader: download succeeded for date range ['1986-07-01', '1986-08-01']\n",
      "2020-09-04 15:49:44,075 [INFO] ERA5_WeatherDownloader: Will download to ./Sentinel2-11.58N-27.94E-Sudan__2020-09-04_15-43-20/gee_27.94_11.58_ERA5/1986-08-16/RAW\n",
      "INFO:pyveg_logger:ERA5_WeatherDownloader: Will download to ./Sentinel2-11.58N-27.94E-Sudan__2020-09-04_15-43-20/gee_27.94_11.58_ERA5/1986-08-16/RAW\n",
      "2020-09-04 15:49:44,082 [INFO] ERA5_WeatherDownloader: download succeeded for date range ['1986-08-01', '1986-09-01']\n",
      "INFO:pyveg_logger:ERA5_WeatherDownloader: download succeeded for date range ['1986-08-01', '1986-09-01']\n",
      "2020-09-04 15:49:48,387 [INFO] ERA5_WeatherDownloader: Will download to ./Sentinel2-11.58N-27.94E-Sudan__2020-09-04_15-43-20/gee_27.94_11.58_ERA5/1986-09-16/RAW\n",
      "INFO:pyveg_logger:ERA5_WeatherDownloader: Will download to ./Sentinel2-11.58N-27.94E-Sudan__2020-09-04_15-43-20/gee_27.94_11.58_ERA5/1986-09-16/RAW\n",
      "2020-09-04 15:49:48,391 [INFO] ERA5_WeatherDownloader: download succeeded for date range ['1986-09-01', '1986-10-01']\n",
      "INFO:pyveg_logger:ERA5_WeatherDownloader: download succeeded for date range ['1986-09-01', '1986-10-01']\n",
      "2020-09-04 15:49:52,495 [INFO] ERA5_WeatherDownloader: Will download to ./Sentinel2-11.58N-27.94E-Sudan__2020-09-04_15-43-20/gee_27.94_11.58_ERA5/1986-10-16/RAW\n",
      "INFO:pyveg_logger:ERA5_WeatherDownloader: Will download to ./Sentinel2-11.58N-27.94E-Sudan__2020-09-04_15-43-20/gee_27.94_11.58_ERA5/1986-10-16/RAW\n",
      "2020-09-04 15:49:52,500 [INFO] ERA5_WeatherDownloader: download succeeded for date range ['1986-10-01', '1986-11-01']\n",
      "INFO:pyveg_logger:ERA5_WeatherDownloader: download succeeded for date range ['1986-10-01', '1986-11-01']\n"
     ]
    },
    {
     "name": "stdout",
     "output_type": "stream",
     "text": [
      "2020-09-04 15:49:56,457 [INFO] ERA5_WeatherDownloader: Will download to ./Sentinel2-11.58N-27.94E-Sudan__2020-09-04_15-43-20/gee_27.94_11.58_ERA5/1986-11-16/RAW\n",
      "INFO:pyveg_logger:ERA5_WeatherDownloader: Will download to ./Sentinel2-11.58N-27.94E-Sudan__2020-09-04_15-43-20/gee_27.94_11.58_ERA5/1986-11-16/RAW\n",
      "2020-09-04 15:49:56,462 [INFO] ERA5_WeatherDownloader: download succeeded for date range ['1986-11-01', '1986-12-01']\n",
      "INFO:pyveg_logger:ERA5_WeatherDownloader: download succeeded for date range ['1986-11-01', '1986-12-01']\n",
      "2020-09-04 15:50:00,675 [INFO] ERA5_WeatherDownloader: Will download to ./Sentinel2-11.58N-27.94E-Sudan__2020-09-04_15-43-20/gee_27.94_11.58_ERA5/1986-12-16/RAW\n",
      "INFO:pyveg_logger:ERA5_WeatherDownloader: Will download to ./Sentinel2-11.58N-27.94E-Sudan__2020-09-04_15-43-20/gee_27.94_11.58_ERA5/1986-12-16/RAW\n",
      "2020-09-04 15:50:00,679 [INFO] ERA5_WeatherDownloader: download succeeded for date range ['1986-12-01', '1987-01-01']\n",
      "INFO:pyveg_logger:ERA5_WeatherDownloader: download succeeded for date range ['1986-12-01', '1987-01-01']\n",
      "2020-09-04 15:50:04,735 [INFO] ERA5_WeatherDownloader: Will download to ./Sentinel2-11.58N-27.94E-Sudan__2020-09-04_15-43-20/gee_27.94_11.58_ERA5/1987-01-16/RAW\n",
      "INFO:pyveg_logger:ERA5_WeatherDownloader: Will download to ./Sentinel2-11.58N-27.94E-Sudan__2020-09-04_15-43-20/gee_27.94_11.58_ERA5/1987-01-16/RAW\n",
      "2020-09-04 15:50:04,741 [INFO] ERA5_WeatherDownloader: download succeeded for date range ['1987-01-01', '1987-02-01']\n",
      "INFO:pyveg_logger:ERA5_WeatherDownloader: download succeeded for date range ['1987-01-01', '1987-02-01']\n",
      "2020-09-04 15:50:08,931 [INFO] ERA5_WeatherDownloader: Will download to ./Sentinel2-11.58N-27.94E-Sudan__2020-09-04_15-43-20/gee_27.94_11.58_ERA5/1987-02-15/RAW\n",
      "INFO:pyveg_logger:ERA5_WeatherDownloader: Will download to ./Sentinel2-11.58N-27.94E-Sudan__2020-09-04_15-43-20/gee_27.94_11.58_ERA5/1987-02-15/RAW\n",
      "2020-09-04 15:50:08,946 [INFO] ERA5_WeatherDownloader: download succeeded for date range ['1987-02-01', '1987-03-01']\n",
      "INFO:pyveg_logger:ERA5_WeatherDownloader: download succeeded for date range ['1987-02-01', '1987-03-01']\n",
      "2020-09-04 15:50:12,847 [INFO] ERA5_WeatherDownloader: Will download to ./Sentinel2-11.58N-27.94E-Sudan__2020-09-04_15-43-20/gee_27.94_11.58_ERA5/1987-03-16/RAW\n",
      "INFO:pyveg_logger:ERA5_WeatherDownloader: Will download to ./Sentinel2-11.58N-27.94E-Sudan__2020-09-04_15-43-20/gee_27.94_11.58_ERA5/1987-03-16/RAW\n",
      "2020-09-04 15:50:12,852 [INFO] ERA5_WeatherDownloader: download succeeded for date range ['1987-03-01', '1987-04-01']\n",
      "INFO:pyveg_logger:ERA5_WeatherDownloader: download succeeded for date range ['1987-03-01', '1987-04-01']\n",
      "2020-09-04 15:50:16,526 [INFO] ERA5_WeatherDownloader: Will download to ./Sentinel2-11.58N-27.94E-Sudan__2020-09-04_15-43-20/gee_27.94_11.58_ERA5/1987-04-16/RAW\n",
      "INFO:pyveg_logger:ERA5_WeatherDownloader: Will download to ./Sentinel2-11.58N-27.94E-Sudan__2020-09-04_15-43-20/gee_27.94_11.58_ERA5/1987-04-16/RAW\n",
      "2020-09-04 15:50:16,531 [INFO] ERA5_WeatherDownloader: download succeeded for date range ['1987-04-01', '1987-05-01']\n",
      "INFO:pyveg_logger:ERA5_WeatherDownloader: download succeeded for date range ['1987-04-01', '1987-05-01']\n",
      "^C\n",
      "Traceback (most recent call last):\n",
      "  File \"/Users/nbarlow/anaconda3/envs/ds4sdenv/bin/pyveg_run_pipeline\", line 8, in <module>\n",
      "    sys.exit(main())\n",
      "  File \"/Users/nbarlow/anaconda3/envs/ds4sdenv/lib/python3.7/site-packages/pyveg/scripts/run_pyveg_pipeline.py\", line 142, in main\n",
      "    configure_and_run_pipeline(pipeline)\n",
      "  File \"/Users/nbarlow/anaconda3/envs/ds4sdenv/lib/python3.7/site-packages/pyveg/scripts/run_pyveg_pipeline.py\", line 128, in configure_and_run_pipeline\n",
      "    pipeline.run()\n",
      "  File \"/Users/nbarlow/anaconda3/envs/ds4sdenv/lib/python3.7/site-packages/pyveg/src/pyveg_pipeline.py\", line 133, in run\n",
      "    sequence.run()\n",
      "  File \"/Users/nbarlow/anaconda3/envs/ds4sdenv/lib/python3.7/site-packages/pyveg/src/pyveg_pipeline.py\", line 282, in run\n",
      "    self.run_status[module.name] =  module.run()\n",
      "  File \"/Users/nbarlow/anaconda3/envs/ds4sdenv/lib/python3.7/site-packages/pyveg/src/download_modules.py\", line 197, in run\n",
      "    urls = self.prep_data(date_range)\n",
      "  File \"/Users/nbarlow/anaconda3/envs/ds4sdenv/lib/python3.7/site-packages/pyveg/src/download_modules.py\", line 131, in prep_data\n",
      "    dataset_size = dataset.size().getInfo()\n",
      "  File \"/Users/nbarlow/anaconda3/envs/ds4sdenv/lib/python3.7/site-packages/ee/computedobject.py\", line 95, in getInfo\n",
      "    return data.computeValue(self)\n",
      "  File \"/Users/nbarlow/anaconda3/envs/ds4sdenv/lib/python3.7/site-packages/ee/data.py\", line 703, in computeValue\n",
      "    prettyPrint=False))['result']\n",
      "  File \"/Users/nbarlow/anaconda3/envs/ds4sdenv/lib/python3.7/site-packages/ee/data.py\", line 338, in _execute_cloud_call\n",
      "    return call.execute(num_retries=num_retries)\n",
      "  File \"/Users/nbarlow/anaconda3/envs/ds4sdenv/lib/python3.7/site-packages/googleapiclient/_helpers.py\", line 134, in positional_wrapper\n",
      "    return wrapped(*args, **kwargs)\n",
      "  File \"/Users/nbarlow/anaconda3/envs/ds4sdenv/lib/python3.7/site-packages/googleapiclient/http.py\", line 892, in execute\n",
      "    headers=self.headers,\n",
      "  File \"/Users/nbarlow/anaconda3/envs/ds4sdenv/lib/python3.7/site-packages/googleapiclient/http.py\", line 172, in _retry_request\n",
      "    resp, content = http.request(uri, method, *args, **kwargs)\n",
      "  File \"/Users/nbarlow/anaconda3/envs/ds4sdenv/lib/python3.7/site-packages/google_auth_httplib2.py\", line 198, in request\n",
      "    uri, method, body=body, headers=request_headers, **kwargs)\n",
      "  File \"/Users/nbarlow/anaconda3/envs/ds4sdenv/lib/python3.7/site-packages/httplib2/__init__.py\", line 1991, in request\n",
      "    cachekey,\n",
      "  File \"/Users/nbarlow/anaconda3/envs/ds4sdenv/lib/python3.7/site-packages/httplib2/__init__.py\", line 1651, in _request\n",
      "    conn, request_uri, method, body, headers\n",
      "  File \"/Users/nbarlow/anaconda3/envs/ds4sdenv/lib/python3.7/site-packages/httplib2shim/__init__.py\", line 148, in _conn_request\n",
      "    decode_content=decode)\n",
      "  File \"/Users/nbarlow/anaconda3/envs/ds4sdenv/lib/python3.7/site-packages/urllib3/request.py\", line 80, in request\n",
      "    method, url, fields=fields, headers=headers, **urlopen_kw\n",
      "  File \"/Users/nbarlow/anaconda3/envs/ds4sdenv/lib/python3.7/site-packages/urllib3/request.py\", line 171, in request_encode_body\n",
      "    return self.urlopen(method, url, **extra_kw)\n",
      "  File \"/Users/nbarlow/anaconda3/envs/ds4sdenv/lib/python3.7/site-packages/urllib3/poolmanager.py\", line 330, in urlopen\n",
      "    response = conn.urlopen(method, u.request_uri, **kw)\n",
      "  File \"/Users/nbarlow/anaconda3/envs/ds4sdenv/lib/python3.7/site-packages/urllib3/connectionpool.py\", line 672, in urlopen\n",
      "    chunked=chunked,\n",
      "  File \"/Users/nbarlow/anaconda3/envs/ds4sdenv/lib/python3.7/site-packages/urllib3/connectionpool.py\", line 421, in _make_request\n",
      "    six.raise_from(e, None)\n",
      "  File \"<string>\", line 3, in raise_from\n",
      "  File \"/Users/nbarlow/anaconda3/envs/ds4sdenv/lib/python3.7/site-packages/urllib3/connectionpool.py\", line 416, in _make_request\n",
      "    httplib_response = conn.getresponse()\n",
      "  File \"/Users/nbarlow/anaconda3/envs/ds4sdenv/lib/python3.7/http/client.py\", line 1344, in getresponse\n",
      "    response.begin()\n",
      "  File \"/Users/nbarlow/anaconda3/envs/ds4sdenv/lib/python3.7/http/client.py\", line 306, in begin\n",
      "    version, status, reason = self._read_status()\n",
      "  File \"/Users/nbarlow/anaconda3/envs/ds4sdenv/lib/python3.7/http/client.py\", line 267, in _read_status\n",
      "    line = str(self.fp.readline(_MAXLINE + 1), \"iso-8859-1\")\n",
      "  File \"/Users/nbarlow/anaconda3/envs/ds4sdenv/lib/python3.7/socket.py\", line 589, in readinto\n",
      "    return self._sock.recv_into(b)\n",
      "  File \"/Users/nbarlow/anaconda3/envs/ds4sdenv/lib/python3.7/ssl.py\", line 1071, in recv_into\n",
      "    return self.read(nbytes, buffer)\n",
      "  File \"/Users/nbarlow/anaconda3/envs/ds4sdenv/lib/python3.7/ssl.py\", line 929, in read\n",
      "    return self._sslobj.read(len, buffer)\n",
      "KeyboardInterrupt\n"
     ]
    }
   ],
   "source": [
    "!pyveg_run_pipeline --config_file ../../pyveg/configs/testconfig_Sentinel2_11.58N_27.94E_Sudan_2019-01-01_2019-04-01_1m_local.py\n",
    "\n"
   ]
  },
  {
   "cell_type": "markdown",
   "metadata": {},
   "source": [
    "\n",
    "So we just:\n",
    "* Downloaded some Sentinel2 images from GEE\n",
    "* Converted these raw tif images into RGB png, greyscale NDVI png, and black-and-white binarized png images.\n",
    "* Split the above pngs into 50x50 sub-images\n",
    "* Calculated the Network Centrality and total NDVI of each sub-image\n",
    "* Downloaded some ERA5 weather data from GEE\n",
    "* Read off the values of precipitation and temperature from these tifs\n",
    "* Combined the vegetation and weather data into one output file\n",
    "\n",
    "The final outpuf file is called \"results_summary.json\" and contains some metadata describing the configuration, and time-series data for the vegetation and weather."
   ]
  },
  {
   "cell_type": "markdown",
   "metadata": {},
   "source": [
    "# (Optional) Running the pieces individually\n",
    "\n",
    "Though the above method is the easiest way to get up-and-running, some users may be interested in running the components of pyveg individually."
   ]
  },
  {
   "cell_type": "code",
   "execution_count": 3,
   "metadata": {},
   "outputs": [],
   "source": [
    "from pyveg.src.download_modules import VegetationDownloader"
   ]
  },
  {
   "cell_type": "code",
   "execution_count": 25,
   "metadata": {},
   "outputs": [],
   "source": [
    "# instantiate this Module:\n",
    "vd = VegetationDownloader(\"Sentinel2_download\")"
   ]
  },
  {
   "cell_type": "markdown",
   "metadata": {},
   "source": [
    "A lot of the parameters we need to configure this Module are in the `configs/collections.py` file - there is a large dictionary containing values for e.g. Sentinel 2."
   ]
  },
  {
   "cell_type": "code",
   "execution_count": 26,
   "metadata": {},
   "outputs": [
    {
     "name": "stdout",
     "output_type": "stream",
     "text": [
      "{'collection_name': 'COPERNICUS/S2', 'data_type': 'vegetation', 'RGB_bands': ['B4', 'B3', 'B2'], 'NIR_band': 'B8', 'mask_cloud': True, 'cloudy_pix_frac': 50, 'cloudy_pix_flag': 'CLOUDY_PIXEL_PERCENTAGE', 'min_date': '2015-01-01', 'max_date': '2020-09-04', 'time_per_point': '1m'}\n"
     ]
    }
   ],
   "source": [
    "from pyveg.configs.collections import data_collections\n",
    "s2_config = data_collections[\"Sentinel2\"]\n",
    "print(s2_config)"
   ]
  },
  {
   "cell_type": "markdown",
   "metadata": {},
   "source": [
    "we also need to specify the coordinates we want to look at (in ***(long,lat)*** format) - let's look at one of our locations in the Sahel:"
   ]
  },
  {
   "cell_type": "code",
   "execution_count": 27,
   "metadata": {},
   "outputs": [],
   "source": [
    "coords = [28.37,11.12]"
   ]
  },
  {
   "cell_type": "markdown",
   "metadata": {},
   "source": [
    "And we need to choose a date range.  If we are looking at vegetation data as in this case, we will take the median of all images available within this date range (after filtering out cloudy ones)."
   ]
  },
  {
   "cell_type": "code",
   "execution_count": 28,
   "metadata": {},
   "outputs": [],
   "source": [
    "date_range = [\"2018-06-01\",\"2018-07-01\"]"
   ]
  },
  {
   "cell_type": "markdown",
   "metadata": {},
   "source": [
    "We also need to set an output location to store the files.  We can just use a temporary directory.   The downloaded files will go into a subdirectory of this called \"RAW\", and then into further subdirectories per mid-point of each date sub-range we're looking at.   Here, we are just looking at one month, and the midpoint will be \"2018-06-16\"."
   ]
  },
  {
   "cell_type": "code",
   "execution_count": 29,
   "metadata": {},
   "outputs": [],
   "source": [
    "if os.name == \"posix\":\n",
    "    TMPDIR = \"/tmp\"\n",
    "else:\n",
    "    TMPDIR = \"%TMP%\"\n",
    "    \n",
    "output_location = os.path.join(TMPDIR,\"gee_download_example\")\n",
    "output_location_type = \"local\" # other alternative currently possible is `azure` for MS Azure cloud, if setup"
   ]
  },
  {
   "cell_type": "markdown",
   "metadata": {},
   "source": [
    "Now we're ready to configure the module:"
   ]
  },
  {
   "cell_type": "code",
   "execution_count": 30,
   "metadata": {},
   "outputs": [
    {
     "name": "stderr",
     "output_type": "stream",
     "text": [
      "2020-09-04 16:48:54,688 [INFO] Sentinel2_download: setting collection_name to COPERNICUS/S2\n",
      "INFO:pyveg_logger:Sentinel2_download: setting collection_name to COPERNICUS/S2\n",
      "2020-09-04 16:48:54,690 [INFO] Sentinel2_download: setting data_type to vegetation\n",
      "INFO:pyveg_logger:Sentinel2_download: setting data_type to vegetation\n",
      "2020-09-04 16:48:54,693 [INFO] Sentinel2_download: setting RGB_bands to ['B4', 'B3', 'B2']\n",
      "INFO:pyveg_logger:Sentinel2_download: setting RGB_bands to ['B4', 'B3', 'B2']\n",
      "2020-09-04 16:48:54,695 [INFO] Sentinel2_download: setting NIR_band to B8\n",
      "INFO:pyveg_logger:Sentinel2_download: setting NIR_band to B8\n",
      "2020-09-04 16:48:54,698 [INFO] Sentinel2_download: setting mask_cloud to True\n",
      "INFO:pyveg_logger:Sentinel2_download: setting mask_cloud to True\n",
      "2020-09-04 16:48:54,700 [INFO] Sentinel2_download: setting cloudy_pix_frac to 50\n",
      "INFO:pyveg_logger:Sentinel2_download: setting cloudy_pix_frac to 50\n",
      "2020-09-04 16:48:54,701 [INFO] Sentinel2_download: setting cloudy_pix_flag to CLOUDY_PIXEL_PERCENTAGE\n",
      "INFO:pyveg_logger:Sentinel2_download: setting cloudy_pix_flag to CLOUDY_PIXEL_PERCENTAGE\n",
      "2020-09-04 16:48:54,703 [INFO] Sentinel2_download: setting min_date to 2015-01-01\n",
      "INFO:pyveg_logger:Sentinel2_download: setting min_date to 2015-01-01\n",
      "2020-09-04 16:48:54,705 [INFO] Sentinel2_download: setting max_date to 2020-09-04\n",
      "INFO:pyveg_logger:Sentinel2_download: setting max_date to 2020-09-04\n",
      "2020-09-04 16:48:54,707 [INFO] Sentinel2_download: setting time_per_point to 1m\n",
      "INFO:pyveg_logger:Sentinel2_download: setting time_per_point to 1m\n"
     ]
    },
    {
     "name": "stdout",
     "output_type": "stream",
     "text": [
      "        [Module]: Sentinel2_download \n",
      "        =======================\n",
      "        depends_on: []\n",
      "        is_configured: True\n",
      "        is_finished: False\n",
      "        run_status: {'succeeded': 0, 'failed': 0, 'incomplete': 0}\n",
      "        collection_name: COPERNICUS/S2\n",
      "        data_type: vegetation\n",
      "        RGB_bands: ['B4', 'B3', 'B2']\n",
      "        NIR_band: B8\n",
      "        mask_cloud: True\n",
      "        cloudy_pix_frac: 50\n",
      "        cloudy_pix_flag: CLOUDY_PIXEL_PERCENTAGE\n",
      "        min_date: 2015-01-01\n",
      "        max_date: 2020-09-04\n",
      "        time_per_point: 1m\n",
      "        coords: [28.37, 11.12]\n",
      "        date_range: ['2018-06-01', '2018-07-01']\n",
      "        output_location: /tmp\n",
      "        output_location_type: local\n",
      "        region_size: 0.08\n",
      "        scale: 10\n",
      "        replace_existing_files: False\n",
      "        num_files_per_point: 4\n",
      "        =======================\n",
      "\n",
      "\n"
     ]
    }
   ],
   "source": [
    "\n",
    "# we could go through all the key,value pairs in the s2_config dict setting them all\n",
    "# individually, but lets do them all at once\n",
    "vd.set_parameters(s2_config)\n",
    "vd.coords = coords\n",
    "vd.date_range = date_range\n",
    "vd.output_location = output_location\n",
    "vd.output_location_type = output_location_type\n",
    "vd.configure()\n",
    "print(vd)"
   ]
  },
  {
   "cell_type": "markdown",
   "metadata": {},
   "source": [
    "The Module is all configured and ready-to-go!"
   ]
  },
  {
   "cell_type": "code",
   "execution_count": 15,
   "metadata": {},
   "outputs": [
    {
     "name": "stderr",
     "output_type": "stream",
     "text": [
      "2020-09-04 16:27:16,614 [INFO] Sentinel2: Will download to /tmp/2018-06-16/RAW\n",
      "INFO:pyveg_logger:Sentinel2: Will download to /tmp/2018-06-16/RAW\n",
      "2020-09-04 16:27:16,659 [INFO] Sentinel2: download succeeded for date range ['2018-06-01', '2018-07-01']\n",
      "INFO:pyveg_logger:Sentinel2: download succeeded for date range ['2018-06-01', '2018-07-01']\n"
     ]
    },
    {
     "data": {
      "text/plain": [
       "{'succeeded': 1, 'failed': 0, 'incomplete': 0}"
      ]
     },
     "execution_count": 15,
     "metadata": {},
     "output_type": "execute_result"
    }
   ],
   "source": [
    "vd.run()"
   ]
  },
  {
   "cell_type": "markdown",
   "metadata": {},
   "source": [
    "There should now be some files in the output location:"
   ]
  },
  {
   "cell_type": "code",
   "execution_count": 20,
   "metadata": {},
   "outputs": [
    {
     "data": {
      "text/plain": [
       "['download.NDVI.tif', 'download.B4.tif', 'download.B3.tif', 'download.B2.tif']"
      ]
     },
     "execution_count": 20,
     "metadata": {},
     "output_type": "execute_result"
    }
   ],
   "source": [
    "os.listdir(os.path.join(TMPDIR,\"2018-06-16\",\"RAW\"))"
   ]
  },
  {
   "cell_type": "markdown",
   "metadata": {},
   "source": [
    "So we have one .tif file per band.   \n",
    "\n",
    "The next Module we would normally run in the vegetation Sequence is the VegetationImageProcessor that will take these tif files and produce png images from them.  This includes histogram equalization, adaptive thresholding and median filtering on an input image, to give us binary NDVI images.  It then divides these into 50x50 sub-images."
   ]
  },
  {
   "cell_type": "code",
   "execution_count": 33,
   "metadata": {},
   "outputs": [
    {
     "name": "stderr",
     "output_type": "stream",
     "text": [
      "2020-09-04 16:50:40,461 [INFO] Sentinel2_img_processor: setting collection_name to COPERNICUS/S2\n",
      "INFO:pyveg_logger:Sentinel2_img_processor: setting collection_name to COPERNICUS/S2\n",
      "2020-09-04 16:50:40,463 [INFO] Sentinel2_img_processor: setting data_type to vegetation\n",
      "INFO:pyveg_logger:Sentinel2_img_processor: setting data_type to vegetation\n",
      "2020-09-04 16:50:40,464 [INFO] Sentinel2_img_processor: setting RGB_bands to ['B4', 'B3', 'B2']\n",
      "INFO:pyveg_logger:Sentinel2_img_processor: setting RGB_bands to ['B4', 'B3', 'B2']\n",
      "2020-09-04 16:50:40,467 [INFO] Sentinel2_img_processor: setting NIR_band to B8\n",
      "INFO:pyveg_logger:Sentinel2_img_processor: setting NIR_band to B8\n",
      "2020-09-04 16:50:40,469 [INFO] Sentinel2_img_processor: setting mask_cloud to True\n",
      "INFO:pyveg_logger:Sentinel2_img_processor: setting mask_cloud to True\n",
      "2020-09-04 16:50:40,470 [INFO] Sentinel2_img_processor: setting cloudy_pix_frac to 50\n",
      "INFO:pyveg_logger:Sentinel2_img_processor: setting cloudy_pix_frac to 50\n",
      "2020-09-04 16:50:40,473 [INFO] Sentinel2_img_processor: setting cloudy_pix_flag to CLOUDY_PIXEL_PERCENTAGE\n",
      "INFO:pyveg_logger:Sentinel2_img_processor: setting cloudy_pix_flag to CLOUDY_PIXEL_PERCENTAGE\n",
      "2020-09-04 16:50:40,480 [INFO] Sentinel2_img_processor: setting min_date to 2015-01-01\n",
      "INFO:pyveg_logger:Sentinel2_img_processor: setting min_date to 2015-01-01\n",
      "2020-09-04 16:50:40,482 [INFO] Sentinel2_img_processor: setting max_date to 2020-09-04\n",
      "INFO:pyveg_logger:Sentinel2_img_processor: setting max_date to 2020-09-04\n",
      "2020-09-04 16:50:40,485 [INFO] Sentinel2_img_processor: setting time_per_point to 1m\n",
      "INFO:pyveg_logger:Sentinel2_img_processor: setting time_per_point to 1m\n"
     ]
    }
   ],
   "source": [
    "from pyveg.src.processor_modules import VegetationImageProcessor\n",
    "vip = VegetationImageProcessor(\"Sentinel2_img_processor\")\n",
    "vip.set_parameters(s2_config)\n",
    "vip.coords = coords\n"
   ]
  },
  {
   "cell_type": "markdown",
   "metadata": {},
   "source": [
    "The only other things we need to set are the `input_location` (which will be the `output_location` from the downloader), and the `output_location` (which we will put as the same as the downloader's one - the results of this will go into different subdirectories of the date-named subdirectories)."
   ]
  },
  {
   "cell_type": "code",
   "execution_count": 34,
   "metadata": {},
   "outputs": [
    {
     "name": "stdout",
     "output_type": "stream",
     "text": [
      "        [Module]: Sentinel2_img_processor \n",
      "        =======================\n",
      "        depends_on: []\n",
      "        is_configured: True\n",
      "        is_finished: False\n",
      "        run_status: {'succeeded': 0, 'failed': 0, 'incomplete': 0}\n",
      "        collection_name: COPERNICUS/S2\n",
      "        data_type: vegetation\n",
      "        RGB_bands: ['B4', 'B3', 'B2']\n",
      "        NIR_band: B8\n",
      "        mask_cloud: True\n",
      "        cloudy_pix_frac: 50\n",
      "        cloudy_pix_flag: CLOUDY_PIXEL_PERCENTAGE\n",
      "        min_date: 2015-01-01\n",
      "        max_date: 2020-09-04\n",
      "        time_per_point: 1m\n",
      "        coords: [28.37, 11.12]\n",
      "        input_location: /tmp\n",
      "        output_location: /tmp\n",
      "        replace_existing_files: False\n",
      "        num_files_per_point: 3\n",
      "        input_location_type: local\n",
      "        output_location_type: local\n",
      "        dates_to_process: []\n",
      "        run_mode: local\n",
      "        n_batch_tasks: -1\n",
      "        batch_task_dict: {}\n",
      "        timeout: 30\n",
      "        region_size: 0.08\n",
      "        split_RGB_images: True\n",
      "        input_location_subdirs: ['RAW']\n",
      "        output_location_subdirs: ['PROCESSED']\n",
      "        =======================\n",
      "\n",
      "\n"
     ]
    }
   ],
   "source": [
    "vip.input_location = vd.output_location\n",
    "vip.output_location = vd.output_location\n",
    "vip.configure()\n",
    "print(vip)"
   ]
  },
  {
   "cell_type": "code",
   "execution_count": 35,
   "metadata": {},
   "outputs": [
    {
     "name": "stderr",
     "output_type": "stream",
     "text": [
      "2020-09-04 16:50:48,562 [INFO] Sentinel2_img_processor: Running local\n",
      "INFO:pyveg_logger:Sentinel2_img_processor: Running local\n",
      "2020-09-04 16:50:48,565 [INFO] Sentinel2_img_processor processing files in /tmp/2018-06-16/RAW\n",
      "INFO:pyveg_logger:Sentinel2_img_processor processing files in /tmp/2018-06-16/RAW\n",
      "2020-09-04 16:50:48,567 [INFO] ['download.NDVI.tif', 'download.B4.tif', 'download.B3.tif', 'download.B2.tif']\n",
      "INFO:pyveg_logger:['download.NDVI.tif', 'download.B4.tif', 'download.B3.tif', 'download.B2.tif']\n",
      "2020-09-04 16:50:48,569 [INFO] Sentinel2_img_processor: Saving RGB image for 2018-06-16 28.37_11.12\n",
      "INFO:pyveg_logger:Sentinel2_img_processor: Saving RGB image for 2018-06-16 28.37_11.12\n",
      "2020-09-04 16:50:55,482 [INFO] Will save image to /tmp/2018-06-16/PROCESSED / 2018-06-16_28.37_11.12_RGB.png\n",
      "INFO:pyveg_logger:Will save image to /tmp/2018-06-16/PROCESSED / 2018-06-16_28.37_11.12_RGB.png\n"
     ]
    },
    {
     "name": "stdout",
     "output_type": "stream",
     "text": [
      "Saved image '/tmp/2018-06-16/PROCESSED/2018-06-16_28.37_11.12_RGB.png'\n",
      "Saved image '/tmp/2018-06-16/PROCESSED/2018-06-16_28.37_11.12_NDVI.png'\n",
      "Saved image '/tmp/2018-06-16/PROCESSED/2018-06-16_28.37_11.12_BWNDVI.png'\n"
     ]
    },
    {
     "name": "stderr",
     "output_type": "stream",
     "text": [
      "2020-09-04 16:51:10,652 [INFO] Sentinel2_img_processor: Sophos_Support_4eyy5C not a date string\n",
      "INFO:pyveg_logger:Sentinel2_img_processor: Sophos_Support_4eyy5C not a date string\n",
      "2020-09-04 16:51:10,655 [INFO] Sentinel2_img_processor: Sophos_Support_5QgQRN not a date string\n",
      "INFO:pyveg_logger:Sentinel2_img_processor: Sophos_Support_5QgQRN not a date string\n",
      "2020-09-04 16:51:10,657 [INFO] Sentinel2_img_processor: Sophos_Support_OOCZM4 not a date string\n",
      "INFO:pyveg_logger:Sentinel2_img_processor: Sophos_Support_OOCZM4 not a date string\n",
      "2020-09-04 16:51:10,659 [INFO] Sentinel2_img_processor: Sophos_Support_TW4wl2 not a date string\n",
      "INFO:pyveg_logger:Sentinel2_img_processor: Sophos_Support_TW4wl2 not a date string\n",
      "2020-09-04 16:51:10,661 [INFO] Sentinel2_img_processor: Sophos_Support_oqJmN5 not a date string\n",
      "INFO:pyveg_logger:Sentinel2_img_processor: Sophos_Support_oqJmN5 not a date string\n",
      "2020-09-04 16:51:10,662 [INFO] Sentinel2_img_processor: Sophos_Support_w6ATPr not a date string\n",
      "INFO:pyveg_logger:Sentinel2_img_processor: Sophos_Support_w6ATPr not a date string\n",
      "2020-09-04 16:51:10,664 [INFO] Sentinel2_img_processor: Unity-hubIPCService.sock not a date string\n",
      "INFO:pyveg_logger:Sentinel2_img_processor: Unity-hubIPCService.sock not a date string\n",
      "2020-09-04 16:51:10,666 [INFO] Sentinel2_img_processor: analysis not a date string\n",
      "INFO:pyveg_logger:Sentinel2_img_processor: analysis not a date string\n",
      "2020-09-04 16:51:10,668 [INFO] Sentinel2_img_processor: com.apple.launchd.WlKLCr68JI not a date string\n",
      "INFO:pyveg_logger:Sentinel2_img_processor: com.apple.launchd.WlKLCr68JI not a date string\n",
      "2020-09-04 16:51:10,671 [INFO] Sentinel2_img_processor: com.apple.launchd.f0lIGSlJMg not a date string\n",
      "INFO:pyveg_logger:Sentinel2_img_processor: com.apple.launchd.f0lIGSlJMg not a date string\n",
      "2020-09-04 16:51:10,672 [INFO] Sentinel2_img_processor: com.apple.launchd.u4tAa2okVn not a date string\n",
      "INFO:pyveg_logger:Sentinel2_img_processor: com.apple.launchd.u4tAa2okVn not a date string\n",
      "2020-09-04 16:51:10,674 [INFO] Sentinel2_img_processor: coords06_all not a date string\n",
      "INFO:pyveg_logger:Sentinel2_img_processor: coords06_all not a date string\n",
      "2020-09-04 16:51:10,676 [INFO] Sentinel2_img_processor: coords06_mask not a date string\n",
      "INFO:pyveg_logger:Sentinel2_img_processor: coords06_mask not a date string\n",
      "2020-09-04 16:51:10,679 [INFO] Sentinel2_img_processor: correlations not a date string\n",
      "INFO:pyveg_logger:Sentinel2_img_processor: correlations not a date string\n",
      "2020-09-04 16:51:10,680 [INFO] Sentinel2_img_processor: meraki_wifi_loc.log not a date string\n",
      "INFO:pyveg_logger:Sentinel2_img_processor: meraki_wifi_loc.log not a date string\n",
      "2020-09-04 16:51:10,683 [INFO] Sentinel2_img_processor: powerlog not a date string\n",
      "INFO:pyveg_logger:Sentinel2_img_processor: powerlog not a date string\n",
      "2020-09-04 16:51:10,686 [INFO] Sentinel2_img_processor: processed_data not a date string\n",
      "INFO:pyveg_logger:Sentinel2_img_processor: processed_data not a date string\n",
      "2020-09-04 16:51:10,688 [INFO] Sentinel2_img_processor: testveg not a date string\n",
      "INFO:pyveg_logger:Sentinel2_img_processor: testveg not a date string\n",
      "2020-09-04 16:51:10,691 [INFO] Sentinel2_img_processor: testweather not a date string\n",
      "INFO:pyveg_logger:Sentinel2_img_processor: testweather not a date string\n"
     ]
    },
    {
     "data": {
      "text/plain": [
       "{'succeeded': 1, 'failed': 0, 'incomplete': 0}"
      ]
     },
     "execution_count": 35,
     "metadata": {},
     "output_type": "execute_result"
    }
   ],
   "source": [
    "vip.run()"
   ]
  },
  {
   "cell_type": "markdown",
   "metadata": {},
   "source": [
    "This should have created two new subdirectories: \"PROCESSED\" contains the full-size RGB, greyscale, and black-and-white images (the first of these using the RGB bands, and the latter two based on the NDVI band).  \"SPLIT\" contains the 50x50 sub-images."
   ]
  },
  {
   "cell_type": "code",
   "execution_count": 38,
   "metadata": {},
   "outputs": [
    {
     "data": {
      "text/plain": [
       "['2018-06-16_28.37_11.12_NDVI.png',\n",
       " '2018-06-16_28.37_11.12_BWNDVI.png',\n",
       " '2018-06-16_28.37_11.12_RGB.png']"
      ]
     },
     "execution_count": 38,
     "metadata": {},
     "output_type": "execute_result"
    }
   ],
   "source": [
    "os.listdir(os.path.join(output_location,\"2018-06-16\",\"PROCESSED\"))"
   ]
  },
  {
   "cell_type": "markdown",
   "metadata": {},
   "source": [
    "## Calculating network centrality\n",
    "\n",
    "The next step in the standard vegetation sequence is the calculation of \"offset50\", which is related to the \"connectedness\" of the vegetation in the black-and-white NDVI sub-images."
   ]
  },
  {
   "cell_type": "code",
   "execution_count": 39,
   "metadata": {},
   "outputs": [
    {
     "name": "stderr",
     "output_type": "stream",
     "text": [
      "2020-09-04 17:05:26,290 [INFO] Sentinel2_ncc: setting collection_name to COPERNICUS/S2\n",
      "INFO:pyveg_logger:Sentinel2_ncc: setting collection_name to COPERNICUS/S2\n",
      "2020-09-04 17:05:26,293 [INFO] Sentinel2_ncc: setting data_type to vegetation\n",
      "INFO:pyveg_logger:Sentinel2_ncc: setting data_type to vegetation\n",
      "2020-09-04 17:05:26,294 [INFO] Sentinel2_ncc: setting RGB_bands to ['B4', 'B3', 'B2']\n",
      "INFO:pyveg_logger:Sentinel2_ncc: setting RGB_bands to ['B4', 'B3', 'B2']\n",
      "2020-09-04 17:05:26,296 [INFO] Sentinel2_ncc: setting NIR_band to B8\n",
      "INFO:pyveg_logger:Sentinel2_ncc: setting NIR_band to B8\n",
      "2020-09-04 17:05:26,298 [INFO] Sentinel2_ncc: setting mask_cloud to True\n",
      "INFO:pyveg_logger:Sentinel2_ncc: setting mask_cloud to True\n",
      "2020-09-04 17:05:26,300 [INFO] Sentinel2_ncc: setting cloudy_pix_frac to 50\n",
      "INFO:pyveg_logger:Sentinel2_ncc: setting cloudy_pix_frac to 50\n",
      "2020-09-04 17:05:26,303 [INFO] Sentinel2_ncc: setting cloudy_pix_flag to CLOUDY_PIXEL_PERCENTAGE\n",
      "INFO:pyveg_logger:Sentinel2_ncc: setting cloudy_pix_flag to CLOUDY_PIXEL_PERCENTAGE\n",
      "2020-09-04 17:05:26,305 [INFO] Sentinel2_ncc: setting min_date to 2015-01-01\n",
      "INFO:pyveg_logger:Sentinel2_ncc: setting min_date to 2015-01-01\n",
      "2020-09-04 17:05:26,308 [INFO] Sentinel2_ncc: setting max_date to 2020-09-04\n",
      "INFO:pyveg_logger:Sentinel2_ncc: setting max_date to 2020-09-04\n",
      "2020-09-04 17:05:26,310 [INFO] Sentinel2_ncc: setting time_per_point to 1m\n",
      "INFO:pyveg_logger:Sentinel2_ncc: setting time_per_point to 1m\n"
     ]
    },
    {
     "name": "stdout",
     "output_type": "stream",
     "text": [
      "        [Module]: Sentinel2_ncc \n",
      "        =======================\n",
      "        depends_on: []\n",
      "        is_configured: True\n",
      "        is_finished: False\n",
      "        run_status: {'succeeded': 0, 'failed': 0, 'incomplete': 0}\n",
      "        collection_name: COPERNICUS/S2\n",
      "        data_type: vegetation\n",
      "        RGB_bands: ['B4', 'B3', 'B2']\n",
      "        NIR_band: B8\n",
      "        mask_cloud: True\n",
      "        cloudy_pix_frac: 50\n",
      "        cloudy_pix_flag: CLOUDY_PIXEL_PERCENTAGE\n",
      "        min_date: 2015-01-01\n",
      "        max_date: 2020-09-04\n",
      "        time_per_point: 1m\n",
      "        input_location: /tmp\n",
      "        output_location: /tmp\n",
      "        replace_existing_files: False\n",
      "        num_files_per_point: 1\n",
      "        input_location_type: local\n",
      "        output_location_type: local\n",
      "        dates_to_process: []\n",
      "        run_mode: local\n",
      "        n_batch_tasks: -1\n",
      "        batch_task_dict: {}\n",
      "        timeout: 30\n",
      "        n_threads: 4\n",
      "        n_sub_images: -1\n",
      "        input_location_subdirs: ['SPLIT']\n",
      "        output_location_subdirs: ['JSON', 'NC']\n",
      "        =======================\n",
      "\n",
      "\n"
     ]
    }
   ],
   "source": [
    "from pyveg.src.processor_modules import NetworkCentralityCalculator\n",
    "ncc = NetworkCentralityCalculator(\"Sentinel2_ncc\")\n",
    "ncc.set_parameters(s2_config)\n",
    "ncc.input_location = vip.output_location\n",
    "ncc.output_location = vip.output_location # same output location again - will create a 'JSON' subdir\n",
    "ncc.configure()\n",
    "print(ncc)"
   ]
  },
  {
   "cell_type": "markdown",
   "metadata": {},
   "source": [
    "One other setting that we might want to change is the number of sub-images per full-size-image for which we do the network centrality calculation.   There are 289 sub-images per full-size-image, and it can be quite time-consuming to process all of them (even though some parallization is implemented - see `n_threads` argument).   We can set this to a smaller number for testing purposes."
   ]
  },
  {
   "cell_type": "code",
   "execution_count": 41,
   "metadata": {},
   "outputs": [],
   "source": [
    "ncc.n_sub_images = 10"
   ]
  },
  {
   "cell_type": "code",
   "execution_count": 42,
   "metadata": {},
   "outputs": [
    {
     "name": "stderr",
     "output_type": "stream",
     "text": [
      "2020-09-04 17:11:29,863 [INFO] Sentinel2_ncc: Running local\n",
      "INFO:pyveg_logger:Sentinel2_ncc: Running local\n",
      "2020-09-04 17:11:29,874 [INFO] Sentinel2_ncc: processing 2018-06-16\n",
      "INFO:pyveg_logger:Sentinel2_ncc: processing 2018-06-16\n",
      "2020-09-04 17:11:30,080 [INFO] Sentinel2_ncc found 289 sub-images\n",
      "INFO:pyveg_logger:Sentinel2_ncc found 289 sub-images\n",
      "2020-09-04 17:11:45,461 [INFO] \n",
      " Consolidating json from all subimages\n",
      "INFO:pyveg_logger:\n",
      " Consolidating json from all subimages\n",
      "2020-09-04 17:11:45,496 [INFO] Sentinel2_ncc: Sophos_Support_4eyy5C not a date string\n",
      "INFO:pyveg_logger:Sentinel2_ncc: Sophos_Support_4eyy5C not a date string\n",
      "2020-09-04 17:11:45,498 [INFO] Sentinel2_ncc: Sophos_Support_5QgQRN not a date string\n",
      "INFO:pyveg_logger:Sentinel2_ncc: Sophos_Support_5QgQRN not a date string\n",
      "2020-09-04 17:11:45,502 [INFO] Sentinel2_ncc: Sophos_Support_OOCZM4 not a date string\n",
      "INFO:pyveg_logger:Sentinel2_ncc: Sophos_Support_OOCZM4 not a date string\n",
      "2020-09-04 17:11:45,504 [INFO] Sentinel2_ncc: Sophos_Support_S9ZUjc not a date string\n",
      "INFO:pyveg_logger:Sentinel2_ncc: Sophos_Support_S9ZUjc not a date string\n",
      "2020-09-04 17:11:45,506 [INFO] Sentinel2_ncc: Sophos_Support_TW4wl2 not a date string\n",
      "INFO:pyveg_logger:Sentinel2_ncc: Sophos_Support_TW4wl2 not a date string\n",
      "2020-09-04 17:11:45,509 [INFO] Sentinel2_ncc: Sophos_Support_oqJmN5 not a date string\n",
      "INFO:pyveg_logger:Sentinel2_ncc: Sophos_Support_oqJmN5 not a date string\n",
      "2020-09-04 17:11:45,512 [INFO] Sentinel2_ncc: Sophos_Support_w6ATPr not a date string\n",
      "INFO:pyveg_logger:Sentinel2_ncc: Sophos_Support_w6ATPr not a date string\n",
      "2020-09-04 17:11:45,514 [INFO] Sentinel2_ncc: Unity-hubIPCService.sock not a date string\n",
      "INFO:pyveg_logger:Sentinel2_ncc: Unity-hubIPCService.sock not a date string\n",
      "2020-09-04 17:11:45,516 [INFO] Sentinel2_ncc: analysis not a date string\n",
      "INFO:pyveg_logger:Sentinel2_ncc: analysis not a date string\n",
      "2020-09-04 17:11:45,520 [INFO] Sentinel2_ncc: com.apple.launchd.WlKLCr68JI not a date string\n",
      "INFO:pyveg_logger:Sentinel2_ncc: com.apple.launchd.WlKLCr68JI not a date string\n",
      "2020-09-04 17:11:45,524 [INFO] Sentinel2_ncc: com.apple.launchd.f0lIGSlJMg not a date string\n",
      "INFO:pyveg_logger:Sentinel2_ncc: com.apple.launchd.f0lIGSlJMg not a date string\n",
      "2020-09-04 17:11:45,527 [INFO] Sentinel2_ncc: com.apple.launchd.u4tAa2okVn not a date string\n",
      "INFO:pyveg_logger:Sentinel2_ncc: com.apple.launchd.u4tAa2okVn not a date string\n",
      "2020-09-04 17:11:45,529 [INFO] Sentinel2_ncc: coords06_all not a date string\n",
      "INFO:pyveg_logger:Sentinel2_ncc: coords06_all not a date string\n",
      "2020-09-04 17:11:45,532 [INFO] Sentinel2_ncc: coords06_mask not a date string\n",
      "INFO:pyveg_logger:Sentinel2_ncc: coords06_mask not a date string\n",
      "2020-09-04 17:11:45,536 [INFO] Sentinel2_ncc: correlations not a date string\n",
      "INFO:pyveg_logger:Sentinel2_ncc: correlations not a date string\n",
      "2020-09-04 17:11:45,539 [INFO] Sentinel2_ncc: meraki_wifi_loc.log not a date string\n",
      "INFO:pyveg_logger:Sentinel2_ncc: meraki_wifi_loc.log not a date string\n",
      "2020-09-04 17:11:45,541 [INFO] Sentinel2_ncc: powerlog not a date string\n",
      "INFO:pyveg_logger:Sentinel2_ncc: powerlog not a date string\n",
      "2020-09-04 17:11:45,543 [INFO] Sentinel2_ncc: processed_data not a date string\n",
      "INFO:pyveg_logger:Sentinel2_ncc: processed_data not a date string\n",
      "2020-09-04 17:11:45,545 [INFO] Sentinel2_ncc: testveg not a date string\n",
      "INFO:pyveg_logger:Sentinel2_ncc: testveg not a date string\n",
      "2020-09-04 17:11:45,548 [INFO] Sentinel2_ncc: testweather not a date string\n",
      "INFO:pyveg_logger:Sentinel2_ncc: testweather not a date string\n"
     ]
    },
    {
     "data": {
      "text/plain": [
       "{'succeeded': 1, 'failed': 0, 'incomplete': 0}"
      ]
     },
     "execution_count": 42,
     "metadata": {},
     "output_type": "execute_result"
    }
   ],
   "source": [
    "ncc.run()"
   ]
  },
  {
   "cell_type": "markdown",
   "metadata": {},
   "source": [
    "We should now have a json file in the output directory:"
   ]
  },
  {
   "cell_type": "code",
   "execution_count": 45,
   "metadata": {},
   "outputs": [
    {
     "data": {
      "text/plain": [
       "['network_centralities.json']"
      ]
     },
     "execution_count": 45,
     "metadata": {},
     "output_type": "execute_result"
    }
   ],
   "source": [
    "os.listdir(os.path.join(output_location,\"2018-06-16\",\"JSON\",\"NC\"))"
   ]
  },
  {
   "cell_type": "code",
   "execution_count": 48,
   "metadata": {},
   "outputs": [
    {
     "data": {
      "text/plain": [
       "list"
      ]
     },
     "execution_count": 48,
     "metadata": {},
     "output_type": "execute_result"
    }
   ],
   "source": [
    "import json\n",
    "j=json.load(open(os.path.join(output_location,\"2018-06-16\",\"JSON\",\"NC\",\"network_centralities.json\")))\n"
   ]
  },
  {
   "cell_type": "markdown",
   "metadata": {},
   "source": [
    "The contents of the json file is a list (one entry per sub-image) of dictionaries, and the dictionary keys includ latitude, longitude of the sub-image, as well as \"offset50\"."
   ]
  },
  {
   "cell_type": "code",
   "execution_count": 50,
   "metadata": {},
   "outputs": [
    {
     "data": {
      "text/plain": [
       "dict_keys(['slope', 'offset', 'offset50', 'mean', 'std', 'feature_vec', 'date', 'latitude', 'longitude'])"
      ]
     },
     "execution_count": 50,
     "metadata": {},
     "output_type": "execute_result"
    }
   ],
   "source": [
    "j[0].keys()"
   ]
  },
  {
   "cell_type": "code",
   "execution_count": 51,
   "metadata": {},
   "outputs": [
    {
     "data": {
      "text/plain": [
       "-794.0"
      ]
     },
     "execution_count": 51,
     "metadata": {},
     "output_type": "execute_result"
    }
   ],
   "source": [
    "j[0][\"offset50\"]"
   ]
  }
 ],
 "metadata": {
  "kernelspec": {
   "display_name": "Python 3",
   "language": "python",
   "name": "python3"
  },
  "language_info": {
   "codemirror_mode": {
    "name": "ipython",
    "version": 3
   },
   "file_extension": ".py",
   "mimetype": "text/x-python",
   "name": "python",
   "nbconvert_exporter": "python",
   "pygments_lexer": "ipython3",
   "version": "3.7.7"
  }
 },
 "nbformat": 4,
 "nbformat_minor": 4
}

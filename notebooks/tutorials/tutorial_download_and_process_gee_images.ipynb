{
 "cells": [
  {
   "cell_type": "markdown",
   "metadata": {},
   "source": [
    "# Introduction\n",
    "\n",
    "The *pyveg* package contains some useful functions for interacting with the Python API of Google Earth Engine to download images, and also code to process these images and prepare them for analysis.\n",
    "\n",
    "In particular, we want to look at the \"connectedness\" of patterned vegetation.  To do this, we download NDVI (Normalised Difference Vegetation Index) images from GEE, and use some image processing techniques to convert these into binary black-and-white images, that we then divide into 50x50 pixel sub-images, and do some network analysis on them.\n",
    "\n",
    "Before we can use GEE, we need to authenticate (assuming we have an account)."
   ]
  },
  {
   "cell_type": "code",
   "execution_count": 1,
   "metadata": {},
   "outputs": [
    {
     "data": {
      "text/html": [
       "<p>To authorize access needed by Earth Engine, open the following\n",
       "        URL in a web browser and follow the instructions:</p>\n",
       "        <p><a href=https://accounts.google.com/o/oauth2/auth?client_id=517222506229-vsmmajv00ul0bs7p89v5m89qs8eb9359.apps.googleusercontent.com&scope=https%3A%2F%2Fwww.googleapis.com%2Fauth%2Fearthengine+https%3A%2F%2Fwww.googleapis.com%2Fauth%2Fdevstorage.full_control&redirect_uri=urn%3Aietf%3Awg%3Aoauth%3A2.0%3Aoob&response_type=code&code_challenge=YCMlsG4L94YlxQ56qWJp_WZI7A5gEyR3ItZuePQaqDo&code_challenge_method=S256>https://accounts.google.com/o/oauth2/auth?client_id=517222506229-vsmmajv00ul0bs7p89v5m89qs8eb9359.apps.googleusercontent.com&scope=https%3A%2F%2Fwww.googleapis.com%2Fauth%2Fearthengine+https%3A%2F%2Fwww.googleapis.com%2Fauth%2Fdevstorage.full_control&redirect_uri=urn%3Aietf%3Awg%3Aoauth%3A2.0%3Aoob&response_type=code&code_challenge=YCMlsG4L94YlxQ56qWJp_WZI7A5gEyR3ItZuePQaqDo&code_challenge_method=S256</a></p>\n",
       "        <p>The authorization workflow will generate a code, which you\n",
       "        should paste in the box below</p>\n",
       "        "
      ],
      "text/plain": [
       "<IPython.core.display.HTML object>"
      ]
     },
     "metadata": {},
     "output_type": "display_data"
    },
    {
     "name": "stdout",
     "output_type": "stream",
     "text": [
      "Enter verification code: 4/4gHY1mbA7s9uO-zuYK0K7y5Q-BdxFj5xfLOMEebXFBBueb3ZsZgiEeU\n",
      "\n",
      "Successfully saved authorization token.\n"
     ]
    }
   ],
   "source": [
    "import ee\n",
    "ee.Authenticate()"
   ]
  },
  {
   "cell_type": "markdown",
   "metadata": {},
   "source": [
    "## Pipelines, Sequences, and Modules\n",
    "\n",
    "In pyveg, we have the concept of a \"Pipeline\" for downloading and processing data from GEE.\n",
    "\n",
    "A Pipeline is composed of one or more Sequences, which are in turn composed of Modules.\n",
    "\n",
    "A Module is an class designed for one specific task (e.g. \"download vegetation data from GEE\", or \"calculate network centrality of binary images\"), and they are generally grouped into Sequences such that one Module will work on the output of the previous one.  \n",
    "So our standard Pipeline has:\n",
    "* A vegetation Sequence consisting of VegetationDownloader, VegetationImageProcessor, NetworkCentralityCalculator, and NDVICalculator.   \n",
    "* A weather Sequence consisting of WeatherDownloader, WeatherImageToJSON\n",
    "* A combiner Sequence consisting of a single combiner Module, that takes the outputs of the other two Sequences and produces a final output file."
   ]
  },
  {
   "cell_type": "markdown",
   "metadata": {},
   "source": [
    "### Running the full pipeline from the command-line\n",
    "\n",
    "For the second part of this notebook will will demonstrate running individual Modules and Sequences, but the majority of users will probably just want to run the full Pipeline for their selected location/collection/date range, so we will cover that first.\n",
    "\n",
    "We have a couple of \"entrypoints\" (i.e. command-line commands) linked to functions in some pyveg scripts to help do this.  \n",
    "* To configure and run a downloading-and-processing pipeline we run the command `pyveg_run_pipeline --config_file <some-config-file>`\n",
    "* To generate the config file in the above command we have the command `pyveg_generate_config`.\n",
    "\n",
    "Both these can accept multiple command-line arguments, and these can be seen with the `--help` argument:"
   ]
  },
  {
   "cell_type": "code",
   "execution_count": 2,
   "metadata": {},
   "outputs": [
    {
     "name": "stdout",
     "output_type": "stream",
     "text": [
      "usage: pyveg_generate_config [-h] [--coords_id COORDS_ID]\r\n",
      "                             [--configs_dir CONFIGS_DIR]\r\n",
      "                             [--collection_name COLLECTION_NAME]\r\n",
      "                             [--output_dir OUTPUT_DIR] [--test_mode]\r\n",
      "                             [--latitude LATITUDE] [--longitude LONGITUDE]\r\n",
      "                             [--country COUNTRY] [--start_date START_DATE]\r\n",
      "                             [--end_date END_DATE]\r\n",
      "                             [--time_per_point TIME_PER_POINT]\r\n",
      "                             [--region_size REGION_SIZE]\r\n",
      "                             [--pattern_type PATTERN_TYPE]\r\n",
      "                             [--run_mode RUN_MODE] [--n_threads N_THREADS]\r\n",
      "\r\n",
      "Create a config file for running pyveg_pipeline. If run with no arguments\r\n",
      "(recommended), the user will be prompted for each parameter, or can choose a\r\n",
      "default value.\r\n",
      "\r\n",
      "optional arguments:\r\n",
      "  -h, --help            show this help message and exit\r\n",
      "  --coords_id COORDS_ID\r\n",
      "                        (optional) ID of location in coordinates.py\r\n",
      "  --configs_dir CONFIGS_DIR\r\n",
      "                        path to directory containing config files\r\n",
      "  --collection_name COLLECTION_NAME\r\n",
      "                        collection name (e.g. 'Sentinel2')\r\n",
      "  --output_dir OUTPUT_DIR\r\n",
      "                        Directory for local output data\r\n",
      "  --test_mode           Run in test mode, over fewer months and with fewer\r\n",
      "                        sub-images\r\n",
      "  --latitude LATITUDE   latitude in degrees N\r\n",
      "  --longitude LONGITUDE\r\n",
      "                        longitude in degrees E\r\n",
      "  --country COUNTRY     Country of location\r\n",
      "  --start_date START_DATE\r\n",
      "                        start date, format YYYY-MM-DD\r\n",
      "  --end_date END_DATE   end date, format YYYY-MM-DD\r\n",
      "  --time_per_point TIME_PER_POINT\r\n",
      "                        frequency of image, e.g. '1m', '1w'\r\n",
      "  --region_size REGION_SIZE\r\n",
      "                        Size of region to download, in degrees lat/long\r\n",
      "  --pattern_type PATTERN_TYPE\r\n",
      "                        Type of patterned vegetation, e.g. 'spots',\r\n",
      "                        'labyrinths'\r\n",
      "  --run_mode RUN_MODE   'local' for running on local machine, 'azure' for\r\n",
      "                        running some time-consuming parts (i.e. vegetation\r\n",
      "                        image processing) on Azure batch\r\n",
      "  --n_threads N_THREADS\r\n",
      "                        How many threads (cores) to parallelize some\r\n",
      "                        processing functions over\r\n"
     ]
    }
   ],
   "source": [
    "!pyveg_generate_config --help"
   ]
  },
  {
   "cell_type": "markdown",
   "metadata": {},
   "source": [
    "For `pyveg_generate_config` any parameters it needs that are not provided as command-line arguments will be requested from the user, and the various allowed options will be provided, along with (in most cases) default values that will be used if the user just presses \"enter\".\n",
    "However, although just running `pyveg_generate_config` with no arguments and then responding to the prompts is probably the easiest way to run it on the command line, this doesn't seem to work so well with Jupyter, so let's just provide all the arguments it needs:"
   ]
  },
  {
   "cell_type": "code",
   "execution_count": 3,
   "metadata": {},
   "outputs": [
    {
     "name": "stdout",
     "output_type": "stream",
     "text": [
      "\r\n",
      "    output_location ./Sentinel2-11.58N-27.94E-Sudan\r\n",
      "    collection: Sentinel2\r\n",
      "    latitude: 11.58\r\n",
      "    longitude: 27.94\r\n",
      "    country: Sudan\r\n",
      "    pattern_type: unknown\r\n",
      "    start_date: 2019-01-01\r\n",
      "    end_date: 2019-04-01\r\n",
      "    time_per_point: 1m\r\n",
      "    region_size: 0.08\r\n",
      "    run_mode: local\r\n",
      "    n_threads: 2\r\n",
      "    \r\n",
      "================================\r\n",
      "Wrote file \r\n",
      "  ../../pyveg/configs/testconfig_Sentinel2_11.58N_27.94E_Sudan_0.08_unknown_2019-01-01_2019-04-01_1m_local.py\r\n",
      "We recommend that you add and commit this to your version control repository.\r\n",
      "================================\r\n",
      "\r\n",
      "To run pyveg using this configuration, do:\r\n",
      "\r\n",
      "pyveg_run_pipeline --config_file ../../pyveg/configs/testconfig_Sentinel2_11.58N_27.94E_Sudan_0.08_unknown_2019-01-01_2019-04-01_1m_local.py\r\n",
      "\r\n",
      "\r\n"
     ]
    }
   ],
   "source": [
    "!pyveg_generate_config --configs_dir ../../pyveg/configs --collection_name Sentinel2 --output_dir ./ --test_mode --latitude 11.58 --longitude 27.94 --country Sudan --start_date 2019-01-01 --end_date 2019-04-01 --time_per_point 1m --run_mode local --n_threads 2   --region_size 0.08 --pattern_type 'unknown'"
   ]
  },
  {
   "cell_type": "markdown",
   "metadata": {},
   "source": [
    "We can see from the output that a new config file has been written, and the command we should use to run with it."
   ]
  },
  {
   "cell_type": "code",
   "execution_count": 4,
   "metadata": {},
   "outputs": [
    {
     "name": "stdout",
     "output_type": "stream",
     "text": [
      "\n",
      "    azure_config.py not found - this is needed for using Azure storage or batch.\n",
      "    Copy pyveg/azure_config_template.py to pyveg/azure_config.py then input your\n",
      "    own values for Azure Storage account name and Access key, then redo `pip install .`\n",
      "    \n",
      "\n",
      "    azure_config.py not found - this is needed for using Azure storage or batch.\n",
      "    Copy pyveg/azure_config_template.py to pyveg/azure_config.py then input your\n",
      "    own values for Azure Storage account name and Access key, then redo `pip install .`\n",
      "    \n",
      "Traceback (most recent call last):\n",
      "  File \"/anaconda3/envs/veg/bin/pyveg_run_pipeline\", line 8, in <module>\n",
      "    sys.exit(main())\n",
      "  File \"/anaconda3/envs/veg/lib/python3.7/site-packages/pyveg/scripts/run_pyveg_pipeline.py\", line 147, in main\n",
      "    pipeline = build_pipeline(args.config_file, args.from_cache)\n",
      "  File \"/anaconda3/envs/veg/lib/python3.7/site-packages/pyveg/scripts/run_pyveg_pipeline.py\", line 41, in build_pipeline\n",
      "    raise FileNotFoundError(\"Unable to find config file {}\".format(config_file))\n",
      "FileNotFoundError: Unable to find config file ../../pyveg/configs/testconfig_Sentinel2_11.58N_27.94E_Sudan_2019-01-01_2019-04-01_1m_local.py\n"
     ]
    }
   ],
   "source": [
    "!pyveg_run_pipeline --config_file ../../pyveg/configs/testconfig_Sentinel2_11.58N_27.94E_Sudan_2019-01-01_2019-04-01_1m_local.py\n",
    "\n"
   ]
  },
  {
   "cell_type": "markdown",
   "metadata": {},
   "source": [
    "\n",
    "So we just:\n",
    "* Downloaded some Sentinel2 images from GEE\n",
    "* Converted these raw tif images into RGB png, greyscale NDVI png, and black-and-white binarized png images.\n",
    "* Split the above pngs into 50x50 sub-images\n",
    "* Calculated the Network Centrality and total NDVI of each sub-image\n",
    "* Downloaded some ERA5 weather data from GEE\n",
    "* Read off the values of precipitation and temperature from these tifs\n",
    "* Combined the vegetation and weather data into one output file\n",
    "\n",
    "The final output file is called \"results_summary.json\" and contains some metadata describing the configuration, and time-series data for the vegetation and weather."
   ]
  },
  {
   "cell_type": "markdown",
   "metadata": {},
   "source": [
    "# (Optional) Running the pieces individually\n",
    "\n",
    "Though the above method is the easiest way to get up-and-running, some users may be interested in running the components of pyveg individually."
   ]
  },
  {
   "cell_type": "code",
   "execution_count": 5,
   "metadata": {},
   "outputs": [
    {
     "name": "stdout",
     "output_type": "stream",
     "text": [
      "\n",
      "    azure_config.py not found - this is needed for using Azure storage or batch.\n",
      "    Copy pyveg/azure_config_template.py to pyveg/azure_config.py then input your\n",
      "    own values for Azure Storage account name and Access key, then redo `pip install .`\n",
      "    \n",
      "\n",
      "    azure_config.py not found - this is needed for using Azure storage or batch.\n",
      "    Copy pyveg/azure_config_template.py to pyveg/azure_config.py then input your\n",
      "    own values for Azure Storage account name and Access key, then redo `pip install .`\n",
      "    \n"
     ]
    }
   ],
   "source": [
    "from pyveg.src.download_modules import VegetationDownloader"
   ]
  },
  {
   "cell_type": "code",
   "execution_count": 6,
   "metadata": {},
   "outputs": [],
   "source": [
    "# instantiate this Module:\n",
    "vd = VegetationDownloader(\"Sentinel2_download\")"
   ]
  },
  {
   "cell_type": "markdown",
   "metadata": {},
   "source": [
    "A lot of the parameters we need to configure this Module are in the `configs/collections.py` file - there is a large dictionary containing values for e.g. Sentinel 2."
   ]
  },
  {
   "cell_type": "code",
   "execution_count": 7,
   "metadata": {},
   "outputs": [
    {
     "name": "stdout",
     "output_type": "stream",
     "text": [
      "{'collection_name': 'COPERNICUS/S2', 'data_type': 'vegetation', 'RGB_bands': ['B4', 'B3', 'B2'], 'NIR_band': 'B8', 'mask_cloud': True, 'cloudy_pix_frac': 50, 'cloudy_pix_flag': 'CLOUDY_PIXEL_PERCENTAGE', 'min_date': '2016-01-01', 'max_date': '2020-01-01', 'time_per_point': '1m'}\n"
     ]
    }
   ],
   "source": [
    "from pyveg.configs.collections import data_collections\n",
    "s2_config = data_collections[\"Sentinel2\"]\n",
    "print(s2_config)"
   ]
  },
  {
   "cell_type": "markdown",
   "metadata": {},
   "source": [
    "we also need to specify the coordinates we want to look at (in ***(long,lat)*** format) - let's look at one of our locations in the Sahel:"
   ]
  },
  {
   "cell_type": "code",
   "execution_count": 8,
   "metadata": {},
   "outputs": [],
   "source": [
    "coords = [28.37,11.12]"
   ]
  },
  {
   "cell_type": "markdown",
   "metadata": {},
   "source": [
    "And we need to choose a date range.  If we are looking at vegetation data as in this case, we will take the median of all images available within this date range (after filtering out cloudy ones).\n",
    "\n",
    "For the sake of this tutorial, let's just look at a short date range - in fact just a single month:"
   ]
  },
  {
   "cell_type": "code",
   "execution_count": 9,
   "metadata": {},
   "outputs": [],
   "source": [
    "date_range = [\"2018-06-01\",\"2018-07-01\"]"
   ]
  },
  {
   "cell_type": "markdown",
   "metadata": {},
   "source": [
    "We also need to set an output location to store the files.  We can just use a temporary directory.   The downloaded files will go into a subdirectory of this called \"RAW\", and then into further subdirectories per mid-point of each date sub-range we're looking at.   Here, we are just looking at one month, and the midpoint will be \"2018-06-16\"."
   ]
  },
  {
   "cell_type": "code",
   "execution_count": 10,
   "metadata": {},
   "outputs": [],
   "source": [
    "import os\n",
    "if os.name == \"posix\":\n",
    "    TMPDIR = \"/tmp\"\n",
    "else:\n",
    "    TMPDIR = \"%TMP%\"\n",
    "    \n",
    "output_veg_location = os.path.join(TMPDIR,\"gee_veg_download_example\")\n",
    "output_location_type = \"local\" # other alternative currently possible is `azure` for MS Azure cloud, if setup"
   ]
  },
  {
   "cell_type": "markdown",
   "metadata": {},
   "source": [
    "Now we're ready to configure the module:"
   ]
  },
  {
   "cell_type": "code",
   "execution_count": 11,
   "metadata": {},
   "outputs": [
    {
     "name": "stderr",
     "output_type": "stream",
     "text": [
      "2020-09-28 11:20:24,909 [INFO] Sentinel2_download: setting collection_name to COPERNICUS/S2\n",
      "2020-09-28 11:20:24,913 [INFO] Sentinel2_download: setting data_type to vegetation\n",
      "2020-09-28 11:20:24,914 [INFO] Sentinel2_download: setting RGB_bands to ['B4', 'B3', 'B2']\n",
      "2020-09-28 11:20:24,915 [INFO] Sentinel2_download: setting NIR_band to B8\n",
      "2020-09-28 11:20:24,916 [INFO] Sentinel2_download: setting mask_cloud to True\n",
      "2020-09-28 11:20:24,917 [INFO] Sentinel2_download: setting cloudy_pix_frac to 50\n",
      "2020-09-28 11:20:24,918 [INFO] Sentinel2_download: setting cloudy_pix_flag to CLOUDY_PIXEL_PERCENTAGE\n",
      "2020-09-28 11:20:24,919 [INFO] Sentinel2_download: setting min_date to 2016-01-01\n",
      "2020-09-28 11:20:24,919 [INFO] Sentinel2_download: setting max_date to 2020-01-01\n",
      "2020-09-28 11:20:24,920 [INFO] Sentinel2_download: setting time_per_point to 1m\n"
     ]
    },
    {
     "name": "stdout",
     "output_type": "stream",
     "text": [
      "        [Module]: Sentinel2_download \n",
      "        =======================\n",
      "        depends_on: []\n",
      "        is_configured: True\n",
      "        is_finished: False\n",
      "        run_status: {'succeeded': 0, 'failed': 0, 'incomplete': 0}\n",
      "        collection_name: COPERNICUS/S2\n",
      "        data_type: vegetation\n",
      "        RGB_bands: ['B4', 'B3', 'B2']\n",
      "        NIR_band: B8\n",
      "        mask_cloud: True\n",
      "        cloudy_pix_frac: 50\n",
      "        cloudy_pix_flag: CLOUDY_PIXEL_PERCENTAGE\n",
      "        min_date: 2016-01-01\n",
      "        max_date: 2020-01-01\n",
      "        time_per_point: 1m\n",
      "        coords: [28.37, 11.12]\n",
      "        date_range: ['2018-06-01', '2018-07-01']\n",
      "        output_location: /tmp/gee_veg_download_example\n",
      "        output_location_type: local\n",
      "        region_size: 0.08\n",
      "        scale: 10\n",
      "        replace_existing_files: False\n",
      "        num_files_per_point: 4\n",
      "        =======================\n",
      "\n",
      "\n"
     ]
    }
   ],
   "source": [
    "# we could go through all the key,value pairs in the s2_config dict setting them all\n",
    "# individually, but lets do them all at once\n",
    "vd.set_parameters(s2_config)\n",
    "vd.coords = coords\n",
    "vd.date_range = date_range\n",
    "vd.output_location = output_veg_location\n",
    "vd.output_location_type = output_location_type\n",
    "vd.configure()\n",
    "print(vd)"
   ]
  },
  {
   "cell_type": "markdown",
   "metadata": {},
   "source": [
    "The Module is all configured and ready-to-go!"
   ]
  },
  {
   "cell_type": "code",
   "execution_count": 12,
   "metadata": {},
   "outputs": [
    {
     "name": "stderr",
     "output_type": "stream",
     "text": [
      "2020-09-28 11:20:56,293 [INFO] Sentinel2_download: Will download to /tmp/gee_veg_download_example/2018-06-16/RAW\n",
      "INFO:pyveg_logger:Sentinel2_download: Will download to /tmp/gee_veg_download_example/2018-06-16/RAW\n",
      "2020-09-28 11:20:56,320 [INFO] Sentinel2_download: download succeeded for date range ['2018-06-01', '2018-07-01']\n",
      "INFO:pyveg_logger:Sentinel2_download: download succeeded for date range ['2018-06-01', '2018-07-01']\n"
     ]
    },
    {
     "data": {
      "text/plain": [
       "{'succeeded': 1, 'failed': 0, 'incomplete': 0}"
      ]
     },
     "execution_count": 12,
     "metadata": {},
     "output_type": "execute_result"
    }
   ],
   "source": [
    "vd.run()"
   ]
  },
  {
   "cell_type": "markdown",
   "metadata": {},
   "source": [
    "There should now be some files in the output location:"
   ]
  },
  {
   "cell_type": "code",
   "execution_count": 13,
   "metadata": {},
   "outputs": [
    {
     "data": {
      "text/plain": [
       "['download.NDVI.tif', 'download.B4.tif', 'download.B3.tif', 'download.B2.tif']"
      ]
     },
     "execution_count": 13,
     "metadata": {},
     "output_type": "execute_result"
    }
   ],
   "source": [
    "os.listdir(os.path.join(output_veg_location,\"2018-06-16\",\"RAW\"))"
   ]
  },
  {
   "cell_type": "markdown",
   "metadata": {},
   "source": [
    "So we have one .tif file per band.   \n",
    "\n",
    "The next Module we would normally run in the vegetation Sequence is the VegetationImageProcessor that will take these tif files and produce png images from them.  This includes histogram equalization, adaptive thresholding and median filtering on an input image, to give us binary NDVI images.  It then divides these into 50x50 sub-images."
   ]
  },
  {
   "cell_type": "code",
   "execution_count": 14,
   "metadata": {},
   "outputs": [
    {
     "name": "stderr",
     "output_type": "stream",
     "text": [
      "2020-09-28 11:20:56,677 [INFO] Sentinel2_img_processor: setting collection_name to COPERNICUS/S2\n",
      "INFO:pyveg_logger:Sentinel2_img_processor: setting collection_name to COPERNICUS/S2\n",
      "2020-09-28 11:20:56,678 [INFO] Sentinel2_img_processor: setting data_type to vegetation\n",
      "INFO:pyveg_logger:Sentinel2_img_processor: setting data_type to vegetation\n",
      "2020-09-28 11:20:56,680 [INFO] Sentinel2_img_processor: setting RGB_bands to ['B4', 'B3', 'B2']\n",
      "INFO:pyveg_logger:Sentinel2_img_processor: setting RGB_bands to ['B4', 'B3', 'B2']\n",
      "2020-09-28 11:20:56,681 [INFO] Sentinel2_img_processor: setting NIR_band to B8\n",
      "INFO:pyveg_logger:Sentinel2_img_processor: setting NIR_band to B8\n",
      "2020-09-28 11:20:56,683 [INFO] Sentinel2_img_processor: setting mask_cloud to True\n",
      "INFO:pyveg_logger:Sentinel2_img_processor: setting mask_cloud to True\n",
      "2020-09-28 11:20:56,684 [INFO] Sentinel2_img_processor: setting cloudy_pix_frac to 50\n",
      "INFO:pyveg_logger:Sentinel2_img_processor: setting cloudy_pix_frac to 50\n",
      "2020-09-28 11:20:56,686 [INFO] Sentinel2_img_processor: setting cloudy_pix_flag to CLOUDY_PIXEL_PERCENTAGE\n",
      "INFO:pyveg_logger:Sentinel2_img_processor: setting cloudy_pix_flag to CLOUDY_PIXEL_PERCENTAGE\n",
      "2020-09-28 11:20:56,687 [INFO] Sentinel2_img_processor: setting min_date to 2016-01-01\n",
      "INFO:pyveg_logger:Sentinel2_img_processor: setting min_date to 2016-01-01\n",
      "2020-09-28 11:20:56,689 [INFO] Sentinel2_img_processor: setting max_date to 2020-01-01\n",
      "INFO:pyveg_logger:Sentinel2_img_processor: setting max_date to 2020-01-01\n",
      "2020-09-28 11:20:56,690 [INFO] Sentinel2_img_processor: setting time_per_point to 1m\n",
      "INFO:pyveg_logger:Sentinel2_img_processor: setting time_per_point to 1m\n"
     ]
    }
   ],
   "source": [
    "from pyveg.src.processor_modules import VegetationImageProcessor\n",
    "vip = VegetationImageProcessor(\"Sentinel2_img_processor\")\n",
    "vip.set_parameters(s2_config)\n",
    "vip.coords = coords\n"
   ]
  },
  {
   "cell_type": "markdown",
   "metadata": {},
   "source": [
    "The only other things we need to set are the `input_location` (which will be the `output_location` from the downloader), and the `output_location` (which we will put as the same as the downloader's one - the results of this will go into different subdirectories of the date-named subdirectories)."
   ]
  },
  {
   "cell_type": "code",
   "execution_count": 15,
   "metadata": {},
   "outputs": [
    {
     "name": "stdout",
     "output_type": "stream",
     "text": [
      "        [Module]: Sentinel2_img_processor \n",
      "        =======================\n",
      "        depends_on: []\n",
      "        is_configured: True\n",
      "        is_finished: False\n",
      "        run_status: {'succeeded': 0, 'failed': 0, 'incomplete': 0}\n",
      "        collection_name: COPERNICUS/S2\n",
      "        data_type: vegetation\n",
      "        RGB_bands: ['B4', 'B3', 'B2']\n",
      "        NIR_band: B8\n",
      "        mask_cloud: True\n",
      "        cloudy_pix_frac: 50\n",
      "        cloudy_pix_flag: CLOUDY_PIXEL_PERCENTAGE\n",
      "        min_date: 2016-01-01\n",
      "        max_date: 2020-01-01\n",
      "        time_per_point: 1m\n",
      "        coords: [28.37, 11.12]\n",
      "        input_location: /tmp/gee_veg_download_example\n",
      "        output_location: /tmp/gee_veg_download_example\n",
      "        replace_existing_files: False\n",
      "        num_files_per_point: 3\n",
      "        input_location_type: local\n",
      "        output_location_type: local\n",
      "        dates_to_process: []\n",
      "        run_mode: local\n",
      "        n_batch_tasks: -1\n",
      "        batch_task_dict: {}\n",
      "        timeout: 30\n",
      "        region_size: 0.08\n",
      "        split_RGB_images: True\n",
      "        input_location_subdirs: ['RAW']\n",
      "        output_location_subdirs: ['PROCESSED']\n",
      "        =======================\n",
      "\n",
      "\n"
     ]
    }
   ],
   "source": [
    "vip.input_location = vd.output_location\n",
    "vip.output_location = vd.output_location\n",
    "vip.configure()\n",
    "print(vip)"
   ]
  },
  {
   "cell_type": "code",
   "execution_count": 16,
   "metadata": {},
   "outputs": [
    {
     "name": "stderr",
     "output_type": "stream",
     "text": [
      "2020-09-28 11:20:56,702 [INFO] Sentinel2_img_processor: Running local\n",
      "INFO:pyveg_logger:Sentinel2_img_processor: Running local\n",
      "2020-09-28 11:20:56,706 [INFO] Sentinel2_img_processor processing files in /tmp/gee_veg_download_example/2018-06-16/RAW\n",
      "INFO:pyveg_logger:Sentinel2_img_processor processing files in /tmp/gee_veg_download_example/2018-06-16/RAW\n",
      "2020-09-28 11:20:56,708 [INFO] ['download.NDVI.tif', 'download.B4.tif', 'download.B3.tif', 'download.B2.tif']\n",
      "INFO:pyveg_logger:['download.NDVI.tif', 'download.B4.tif', 'download.B3.tif', 'download.B2.tif']\n",
      "2020-09-28 11:20:56,709 [INFO] Sentinel2_img_processor: Saving RGB image for 2018-06-16 28.37_11.12\n",
      "INFO:pyveg_logger:Sentinel2_img_processor: Saving RGB image for 2018-06-16 28.37_11.12\n",
      "2020-09-28 11:21:02,051 [INFO] Will save image to /tmp/gee_veg_download_example/2018-06-16/PROCESSED / 2018-06-16_28.37_11.12_RGB.png\n",
      "INFO:pyveg_logger:Will save image to /tmp/gee_veg_download_example/2018-06-16/PROCESSED / 2018-06-16_28.37_11.12_RGB.png\n"
     ]
    },
    {
     "name": "stdout",
     "output_type": "stream",
     "text": [
      "Saved image '/tmp/gee_veg_download_example/2018-06-16/PROCESSED/2018-06-16_28.37_11.12_RGB.png'\n",
      "Saved image '/tmp/gee_veg_download_example/2018-06-16/PROCESSED/2018-06-16_28.37_11.12_NDVI.png'\n",
      "Saved image '/tmp/gee_veg_download_example/2018-06-16/PROCESSED/2018-06-16_28.37_11.12_BWNDVI.png'\n"
     ]
    },
    {
     "data": {
      "text/plain": [
       "{'succeeded': 1, 'failed': 0, 'incomplete': 0}"
      ]
     },
     "execution_count": 16,
     "metadata": {},
     "output_type": "execute_result"
    }
   ],
   "source": [
    "vip.run()"
   ]
  },
  {
   "cell_type": "markdown",
   "metadata": {},
   "source": [
    "This should have created two new subdirectories: \"PROCESSED\" contains the full-size RGB, greyscale, and black-and-white images (the first of these using the RGB bands, and the latter two based on the NDVI band).  \"SPLIT\" contains the 50x50 sub-images."
   ]
  },
  {
   "cell_type": "code",
   "execution_count": 17,
   "metadata": {},
   "outputs": [
    {
     "data": {
      "text/plain": [
       "['2018-06-16_28.37_11.12_NDVI.png',\n",
       " '2018-06-16_28.37_11.12_BWNDVI.png',\n",
       " '2018-06-16_28.37_11.12_RGB.png']"
      ]
     },
     "execution_count": 17,
     "metadata": {},
     "output_type": "execute_result"
    }
   ],
   "source": [
    "os.listdir(os.path.join(output_veg_location,\"2018-06-16\",\"PROCESSED\"))"
   ]
  },
  {
   "cell_type": "markdown",
   "metadata": {},
   "source": [
    "## Calculating network centrality\n",
    "\n",
    "The next step in the standard vegetation sequence is the calculation of \"offset50\", which is related to the \"connectedness\" of the vegetation in the black-and-white NDVI sub-images."
   ]
  },
  {
   "cell_type": "code",
   "execution_count": 18,
   "metadata": {},
   "outputs": [
    {
     "name": "stderr",
     "output_type": "stream",
     "text": [
      "2020-09-28 11:21:14,402 [INFO] Sentinel2_ncc: setting collection_name to COPERNICUS/S2\n",
      "INFO:pyveg_logger:Sentinel2_ncc: setting collection_name to COPERNICUS/S2\n",
      "2020-09-28 11:21:14,404 [INFO] Sentinel2_ncc: setting data_type to vegetation\n",
      "INFO:pyveg_logger:Sentinel2_ncc: setting data_type to vegetation\n",
      "2020-09-28 11:21:14,405 [INFO] Sentinel2_ncc: setting RGB_bands to ['B4', 'B3', 'B2']\n",
      "INFO:pyveg_logger:Sentinel2_ncc: setting RGB_bands to ['B4', 'B3', 'B2']\n",
      "2020-09-28 11:21:14,407 [INFO] Sentinel2_ncc: setting NIR_band to B8\n",
      "INFO:pyveg_logger:Sentinel2_ncc: setting NIR_band to B8\n",
      "2020-09-28 11:21:14,408 [INFO] Sentinel2_ncc: setting mask_cloud to True\n",
      "INFO:pyveg_logger:Sentinel2_ncc: setting mask_cloud to True\n",
      "2020-09-28 11:21:14,410 [INFO] Sentinel2_ncc: setting cloudy_pix_frac to 50\n",
      "INFO:pyveg_logger:Sentinel2_ncc: setting cloudy_pix_frac to 50\n",
      "2020-09-28 11:21:14,411 [INFO] Sentinel2_ncc: setting cloudy_pix_flag to CLOUDY_PIXEL_PERCENTAGE\n",
      "INFO:pyveg_logger:Sentinel2_ncc: setting cloudy_pix_flag to CLOUDY_PIXEL_PERCENTAGE\n",
      "2020-09-28 11:21:14,412 [INFO] Sentinel2_ncc: setting min_date to 2016-01-01\n",
      "INFO:pyveg_logger:Sentinel2_ncc: setting min_date to 2016-01-01\n",
      "2020-09-28 11:21:14,414 [INFO] Sentinel2_ncc: setting max_date to 2020-01-01\n",
      "INFO:pyveg_logger:Sentinel2_ncc: setting max_date to 2020-01-01\n",
      "2020-09-28 11:21:14,416 [INFO] Sentinel2_ncc: setting time_per_point to 1m\n",
      "INFO:pyveg_logger:Sentinel2_ncc: setting time_per_point to 1m\n"
     ]
    },
    {
     "name": "stdout",
     "output_type": "stream",
     "text": [
      "        [Module]: Sentinel2_ncc \n",
      "        =======================\n",
      "        depends_on: []\n",
      "        is_configured: True\n",
      "        is_finished: False\n",
      "        run_status: {'succeeded': 0, 'failed': 0, 'incomplete': 0}\n",
      "        collection_name: COPERNICUS/S2\n",
      "        data_type: vegetation\n",
      "        RGB_bands: ['B4', 'B3', 'B2']\n",
      "        NIR_band: B8\n",
      "        mask_cloud: True\n",
      "        cloudy_pix_frac: 50\n",
      "        cloudy_pix_flag: CLOUDY_PIXEL_PERCENTAGE\n",
      "        min_date: 2016-01-01\n",
      "        max_date: 2020-01-01\n",
      "        time_per_point: 1m\n",
      "        input_location: /tmp/gee_veg_download_example\n",
      "        output_location: /tmp/gee_veg_download_example\n",
      "        replace_existing_files: False\n",
      "        num_files_per_point: 1\n",
      "        input_location_type: local\n",
      "        output_location_type: local\n",
      "        dates_to_process: []\n",
      "        run_mode: local\n",
      "        n_batch_tasks: -1\n",
      "        batch_task_dict: {}\n",
      "        timeout: 30\n",
      "        n_threads: 4\n",
      "        n_sub_images: -1\n",
      "        input_location_subdirs: ['SPLIT']\n",
      "        output_location_subdirs: ['JSON', 'NC']\n",
      "        =======================\n",
      "\n",
      "\n"
     ]
    }
   ],
   "source": [
    "from pyveg.src.processor_modules import NetworkCentralityCalculator\n",
    "ncc = NetworkCentralityCalculator(\"Sentinel2_ncc\")\n",
    "ncc.set_parameters(s2_config)\n",
    "ncc.input_location = vip.output_location\n",
    "ncc.output_location = vip.output_location # same output location again - will create a 'JSON' subdir\n",
    "ncc.configure()\n",
    "print(ncc)"
   ]
  },
  {
   "cell_type": "markdown",
   "metadata": {},
   "source": [
    "One other setting that we might want to change is the number of sub-images per full-size-image for which we do the network centrality calculation.   There are 289 sub-images per full-size-image, and it can be quite time-consuming to process all of them (even though some parallization is implemented - see `n_threads` argument).   We can set this to a smaller number for testing purposes."
   ]
  },
  {
   "cell_type": "code",
   "execution_count": 19,
   "metadata": {},
   "outputs": [],
   "source": [
    "ncc.n_sub_images = 10"
   ]
  },
  {
   "cell_type": "code",
   "execution_count": 20,
   "metadata": {},
   "outputs": [
    {
     "name": "stderr",
     "output_type": "stream",
     "text": [
      "2020-09-28 11:21:14,428 [INFO] Sentinel2_ncc: Running local\n",
      "INFO:pyveg_logger:Sentinel2_ncc: Running local\n",
      "2020-09-28 11:21:14,434 [INFO] Sentinel2_ncc: processing 2018-06-16\n",
      "INFO:pyveg_logger:Sentinel2_ncc: processing 2018-06-16\n",
      "2020-09-28 11:21:14,813 [INFO] Sentinel2_ncc found 289 sub-images\n",
      "INFO:pyveg_logger:Sentinel2_ncc found 289 sub-images\n"
     ]
    },
    {
     "name": "stdout",
     "output_type": "stream",
     "text": [
      "Processed 10 sub-images...\r"
     ]
    },
    {
     "name": "stderr",
     "output_type": "stream",
     "text": [
      "2020-09-28 11:21:25,138 [INFO] \n",
      " Consolidating json from all subimages\n",
      "INFO:pyveg_logger:\n",
      " Consolidating json from all subimages\n"
     ]
    },
    {
     "data": {
      "text/plain": [
       "{'succeeded': 1, 'failed': 0, 'incomplete': 0}"
      ]
     },
     "execution_count": 20,
     "metadata": {},
     "output_type": "execute_result"
    }
   ],
   "source": [
    "ncc.run()"
   ]
  },
  {
   "cell_type": "markdown",
   "metadata": {},
   "source": [
    "We should now have a json file in the output directory:"
   ]
  },
  {
   "cell_type": "code",
   "execution_count": 21,
   "metadata": {},
   "outputs": [
    {
     "data": {
      "text/plain": [
       "['network_centralities.json']"
      ]
     },
     "execution_count": 21,
     "metadata": {},
     "output_type": "execute_result"
    }
   ],
   "source": [
    "os.listdir(os.path.join(output_veg_location,\"2018-06-16\",\"JSON\",\"NC\"))"
   ]
  },
  {
   "cell_type": "code",
   "execution_count": 22,
   "metadata": {},
   "outputs": [],
   "source": [
    "import json\n",
    "j=json.load(open(os.path.join(output_veg_location,\"2018-06-16\",\"JSON\",\"NC\",\"network_centralities.json\")))\n"
   ]
  },
  {
   "cell_type": "markdown",
   "metadata": {},
   "source": [
    "The contents of the json file is a list (one entry per sub-image) of dictionaries, and the dictionary keys includ latitude, longitude of the sub-image, as well as \"offset50\"."
   ]
  },
  {
   "cell_type": "code",
   "execution_count": 23,
   "metadata": {},
   "outputs": [
    {
     "data": {
      "text/plain": [
       "dict_keys(['slope', 'offset', 'offset50', 'mean', 'std', 'feature_vec', 'date', 'latitude', 'longitude'])"
      ]
     },
     "execution_count": 23,
     "metadata": {},
     "output_type": "execute_result"
    }
   ],
   "source": [
    "j[0].keys()"
   ]
  },
  {
   "cell_type": "markdown",
   "metadata": {},
   "source": [
    "### Running the weather Sequence\n",
    "\n",
    "Here we ran the vegetation-related Modules one-by-one, but we can also combine Modules into Sequences.  As an example, lets do this for the weather downloader Module, and the Module that reads the downloaded images and produces output json files."
   ]
  },
  {
   "cell_type": "code",
   "execution_count": 24,
   "metadata": {},
   "outputs": [],
   "source": [
    "from pyveg.src.pyveg_pipeline import Sequence\n",
    "from pyveg.src.download_modules import WeatherDownloader\n",
    "from pyveg.src.processor_modules import WeatherImageToJSON"
   ]
  },
  {
   "cell_type": "code",
   "execution_count": 25,
   "metadata": {},
   "outputs": [
    {
     "data": {
      "text/plain": [
       "{'collection_name': 'ECMWF/ERA5/MONTHLY',\n",
       " 'data_type': 'weather',\n",
       " 'precipitation_band': ['total_precipitation'],\n",
       " 'temperature_band': ['mean_2m_air_temperature'],\n",
       " 'min_date': '1986-01-01',\n",
       " 'max_date': '2020-01-01',\n",
       " 'time_per_point': '1m'}"
      ]
     },
     "execution_count": 25,
     "metadata": {},
     "output_type": "execute_result"
    }
   ],
   "source": [
    "era_config = data_collections[\"ERA5\"]\n",
    "era_config"
   ]
  },
  {
   "cell_type": "markdown",
   "metadata": {},
   "source": [
    "The default is to download all the monthly weather data since 1986, but for the sake of speed, lets just look at the same small date range as before"
   ]
  },
  {
   "cell_type": "code",
   "execution_count": 26,
   "metadata": {},
   "outputs": [
    {
     "name": "stderr",
     "output_type": "stream",
     "text": [
      "2020-09-28 11:21:25,205 [INFO] era5_sequence: setting collection_name to ECMWF/ERA5/MONTHLY\n",
      "INFO:pyveg_logger:era5_sequence: setting collection_name to ECMWF/ERA5/MONTHLY\n",
      "2020-09-28 11:21:25,207 [INFO] era5_sequence: setting data_type to weather\n",
      "INFO:pyveg_logger:era5_sequence: setting data_type to weather\n",
      "2020-09-28 11:21:25,209 [INFO] era5_sequence: setting precipitation_band to ['total_precipitation']\n",
      "INFO:pyveg_logger:era5_sequence: setting precipitation_band to ['total_precipitation']\n",
      "2020-09-28 11:21:25,211 [INFO] era5_sequence: setting temperature_band to ['mean_2m_air_temperature']\n",
      "INFO:pyveg_logger:era5_sequence: setting temperature_band to ['mean_2m_air_temperature']\n",
      "2020-09-28 11:21:25,213 [INFO] era5_sequence: setting min_date to 1986-01-01\n",
      "INFO:pyveg_logger:era5_sequence: setting min_date to 1986-01-01\n",
      "2020-09-28 11:21:25,215 [INFO] era5_sequence: setting max_date to 2020-01-01\n",
      "INFO:pyveg_logger:era5_sequence: setting max_date to 2020-01-01\n",
      "2020-09-28 11:21:25,217 [INFO] era5_sequence: setting time_per_point to 1m\n",
      "INFO:pyveg_logger:era5_sequence: setting time_per_point to 1m\n"
     ]
    }
   ],
   "source": [
    "s=Sequence(\"era5_sequence\")\n",
    "s.date_range = date_range\n",
    "s.coords = coords # use the same location as we used above, in the Sahel\n",
    "s.set_config(era_config)"
   ]
  },
  {
   "cell_type": "markdown",
   "metadata": {},
   "source": [
    "Now we can add Modules to the Sequence, just using the \"+=\" operator:"
   ]
  },
  {
   "cell_type": "code",
   "execution_count": 27,
   "metadata": {},
   "outputs": [
    {
     "name": "stdout",
     "output_type": "stream",
     "text": [
      "\n",
      "    [Sequence]: era5_sequence \n",
      "    =======================\n",
      "    depends_on: []\n",
      "    output_location: gee_28.37_11.12_era5_sequence\n",
      "    output_location_type: local\n",
      "    is_configured: True\n",
      "    is_finished: False\n",
      "    run_status: {}\n",
      "    date_range: ['2018-06-01', '2018-07-01']\n",
      "    coords: [28.37, 11.12]\n",
      "    collection_name: ECMWF/ERA5/MONTHLY\n",
      "    data_type: weather\n",
      "    precipitation_band: ['total_precipitation']\n",
      "    temperature_band: ['mean_2m_air_temperature']\n",
      "    min_date: 1986-01-01\n",
      "    max_date: 2020-01-01\n",
      "    time_per_point: 1m\n",
      "\n",
      "    ------- Modules ----------\n",
      "\n",
      "        [Module]: era5_sequence_WeatherDownloader \n",
      "        =======================\n",
      "        depends_on: []\n",
      "        is_configured: True\n",
      "        is_finished: False\n",
      "        run_status: {'succeeded': 0, 'failed': 0, 'incomplete': 0}\n",
      "        output_location: gee_28.37_11.12_era5_sequence\n",
      "        output_location_type: local\n",
      "        coords: [28.37, 11.12]\n",
      "        date_range: ['2018-06-01', '2018-07-01']\n",
      "        region_size: 0.08\n",
      "        scale: 10\n",
      "        replace_existing_files: False\n",
      "        num_files_per_point: 2\n",
      "        collection_name: ECMWF/ERA5/MONTHLY\n",
      "        temperature_band: ['mean_2m_air_temperature']\n",
      "        precipitation_band: ['total_precipitation']\n",
      "        time_per_point: 1m\n",
      "        =======================\n",
      "\n",
      "        [Module]: era5_sequence_WeatherImageToJSON \n",
      "        =======================\n",
      "        depends_on: ['era5_sequence_WeatherDownloader']\n",
      "        is_configured: True\n",
      "        is_finished: False\n",
      "        run_status: {'succeeded': 0, 'failed': 0, 'incomplete': 0}\n",
      "        output_location: gee_28.37_11.12_era5_sequence\n",
      "        output_location_type: local\n",
      "        input_location: gee_28.37_11.12_era5_sequence\n",
      "        input_location_type: local\n",
      "        coords: [28.37, 11.12]\n",
      "        date_range: ['2018-06-01', '2018-07-01']\n",
      "        replace_existing_files: False\n",
      "        num_files_per_point: -1\n",
      "        dates_to_process: []\n",
      "        run_mode: local\n",
      "        n_batch_tasks: -1\n",
      "        batch_task_dict: {}\n",
      "        timeout: 30\n",
      "        input_location_subdirs: ['RAW']\n",
      "        output_location_subdirs: ['JSON', 'WEATHER']\n",
      "        =======================\n",
      "\n",
      "    =======================\n",
      "\n",
      "\n"
     ]
    }
   ],
   "source": [
    "s += WeatherDownloader()\n",
    "s += WeatherImageToJSON()\n",
    "s.configure()\n",
    "print(s)"
   ]
  },
  {
   "cell_type": "markdown",
   "metadata": {},
   "source": [
    "We have been given default values for the \"output_location\", which we might want to override for this example and just use a temporary location"
   ]
  },
  {
   "cell_type": "code",
   "execution_count": 28,
   "metadata": {},
   "outputs": [
    {
     "name": "stdout",
     "output_type": "stream",
     "text": [
      "\n",
      "    [Sequence]: era5_sequence \n",
      "    =======================\n",
      "    depends_on: []\n",
      "    output_location: /tmp/gee_weather_download_example\n",
      "    output_location_type: local\n",
      "    is_configured: True\n",
      "    is_finished: False\n",
      "    run_status: {}\n",
      "    date_range: ['2018-06-01', '2018-07-01']\n",
      "    coords: [28.37, 11.12]\n",
      "    collection_name: ECMWF/ERA5/MONTHLY\n",
      "    data_type: weather\n",
      "    precipitation_band: ['total_precipitation']\n",
      "    temperature_band: ['mean_2m_air_temperature']\n",
      "    min_date: 1986-01-01\n",
      "    max_date: 2020-01-01\n",
      "    time_per_point: 1m\n",
      "\n",
      "    ------- Modules ----------\n",
      "\n",
      "        [Module]: era5_sequence_WeatherDownloader \n",
      "        =======================\n",
      "        depends_on: []\n",
      "        is_configured: True\n",
      "        is_finished: False\n",
      "        run_status: {'succeeded': 0, 'failed': 0, 'incomplete': 0}\n",
      "        output_location: /tmp/gee_weather_download_example\n",
      "        output_location_type: local\n",
      "        coords: [28.37, 11.12]\n",
      "        date_range: ['2018-06-01', '2018-07-01']\n",
      "        region_size: 0.08\n",
      "        scale: 10\n",
      "        replace_existing_files: False\n",
      "        num_files_per_point: 2\n",
      "        collection_name: ECMWF/ERA5/MONTHLY\n",
      "        temperature_band: ['mean_2m_air_temperature']\n",
      "        precipitation_band: ['total_precipitation']\n",
      "        time_per_point: 1m\n",
      "        =======================\n",
      "\n",
      "        [Module]: era5_sequence_WeatherImageToJSON \n",
      "        =======================\n",
      "        depends_on: ['era5_sequence_WeatherDownloader', 'era5_sequence_WeatherDownloader']\n",
      "        is_configured: True\n",
      "        is_finished: False\n",
      "        run_status: {'succeeded': 0, 'failed': 0, 'incomplete': 0}\n",
      "        output_location: /tmp/gee_weather_download_example\n",
      "        output_location_type: local\n",
      "        input_location: /tmp/gee_weather_download_example\n",
      "        input_location_type: local\n",
      "        coords: [28.37, 11.12]\n",
      "        date_range: ['2018-06-01', '2018-07-01']\n",
      "        replace_existing_files: False\n",
      "        num_files_per_point: -1\n",
      "        dates_to_process: []\n",
      "        run_mode: local\n",
      "        n_batch_tasks: -1\n",
      "        batch_task_dict: {}\n",
      "        timeout: 30\n",
      "        input_location_subdirs: ['RAW']\n",
      "        output_location_subdirs: ['JSON', 'WEATHER']\n",
      "        =======================\n",
      "\n",
      "    =======================\n",
      "\n",
      "\n"
     ]
    }
   ],
   "source": [
    "output_weather_location = os.path.join(TMPDIR, \"gee_weather_download_example\")\n",
    "s.output_location = output_weather_location\n",
    "# need to reconfigure to propagate this to the Modules\n",
    "s.configure()\n",
    "print(s)"
   ]
  },
  {
   "cell_type": "markdown",
   "metadata": {},
   "source": [
    "And we're ready to run!"
   ]
  },
  {
   "cell_type": "code",
   "execution_count": 29,
   "metadata": {},
   "outputs": [
    {
     "name": "stderr",
     "output_type": "stream",
     "text": [
      "2020-09-28 11:21:28,893 [INFO] era5_sequence_WeatherDownloader: Will download to /tmp/gee_weather_download_example/2018-06-16/RAW\n",
      "INFO:pyveg_logger:era5_sequence_WeatherDownloader: Will download to /tmp/gee_weather_download_example/2018-06-16/RAW\n",
      "2020-09-28 11:21:28,900 [INFO] era5_sequence_WeatherDownloader: download succeeded for date range ['2018-06-01', '2018-07-01']\n",
      "INFO:pyveg_logger:era5_sequence_WeatherDownloader: download succeeded for date range ['2018-06-01', '2018-07-01']\n",
      "2020-09-28 11:21:28,901 [INFO] era5_sequence_WeatherImageToJSON: Running local\n",
      "INFO:pyveg_logger:era5_sequence_WeatherImageToJSON: Running local\n",
      "2020-09-28 11:21:28,904 [INFO] era5_sequence_WeatherImageToJSON: Processing date 2018-06-16\n",
      "INFO:pyveg_logger:era5_sequence_WeatherImageToJSON: Processing date 2018-06-16\n"
     ]
    }
   ],
   "source": [
    "s.run()"
   ]
  },
  {
   "cell_type": "markdown",
   "metadata": {},
   "source": [
    "Let's check we got some output:"
   ]
  },
  {
   "cell_type": "code",
   "execution_count": 30,
   "metadata": {},
   "outputs": [
    {
     "data": {
      "text/plain": [
       "['weather_data.json']"
      ]
     },
     "execution_count": 30,
     "metadata": {},
     "output_type": "execute_result"
    }
   ],
   "source": [
    "os.listdir(os.path.join(output_weather_location, \"2018-06-16\",\"JSON\",\"WEATHER\"))"
   ]
  },
  {
   "cell_type": "code",
   "execution_count": 31,
   "metadata": {},
   "outputs": [
    {
     "name": "stdout",
     "output_type": "stream",
     "text": [
      "{'mean_2m_air_temperature': 302.51324462890625, 'total_precipitation': 0.04973767697811127}\n"
     ]
    }
   ],
   "source": [
    "import json\n",
    "j=json.load(open(os.path.join(output_weather_location, \"2018-06-16\",\"JSON\",\"WEATHER\",\"weather_data.json\")))\n",
    "print(j)"
   ]
  },
  {
   "cell_type": "code",
   "execution_count": null,
   "metadata": {},
   "outputs": [],
   "source": []
  }
 ],
 "metadata": {
  "kernelspec": {
   "display_name": "veg",
   "language": "python",
   "name": "veg"
  },
  "language_info": {
   "codemirror_mode": {
    "name": "ipython",
    "version": 3
   },
   "file_extension": ".py",
   "mimetype": "text/x-python",
   "name": "python",
   "nbconvert_exporter": "python",
   "pygments_lexer": "ipython3",
   "version": "3.7.7"
  }
 },
 "nbformat": 4,
 "nbformat_minor": 4
}
